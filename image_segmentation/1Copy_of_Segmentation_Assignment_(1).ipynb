{
 "cells": [
  {
   "cell_type": "markdown",
   "metadata": {
    "id": "92cYIeQF0bAQ"
   },
   "source": [
    "# Segmentation of Indian Traffic"
   ]
  },
  {
   "cell_type": "code",
   "execution_count": 4,
   "metadata": {
    "id": "5gG_10XW0bAR"
   },
   "outputs": [],
   "source": [
    "import math\n",
    "from PIL import Image, ImageDraw\n",
    "from PIL import ImagePath\n",
    "import pandas as pd\n",
    "import os\n",
    "from os import path\n",
    "from tqdm import tqdm\n",
    "import json\n",
    "import cv2\n",
    "import numpy as np\n",
    "import matplotlib.pyplot as plt\n",
    "import urllib\n",
    "import tensorflow as tf\n",
    "# tf.enable_eager_execution()\n",
    "import os\n",
    "import numpy as np\n",
    "import pandas as pd\n",
    "import cv2\n",
    "import matplotlib.pyplot as plt\n",
    "# from hilbert import hilbertCurve\n",
    "import imgaug.augmenters as iaa\n",
    "import numpy as np\n",
    "# import albumentations as A\n",
    "os.environ['TF_FORCE_GPU_ALLOW_GROWTH'] = 'true'\n",
    "from tensorflow.keras import layers\n",
    "from tensorflow.keras.layers import Dense,Input,Conv2D,MaxPool2D,Activation,Dropout,Flatten,BatchNormalization, ReLU, Reshape\n",
    "#from tensorflow.keras.layers import Dense,Input,Conv2D,MaxPool2D,Activation,Dropout,Flatten, CuDNNLSTM, BatchNormalization, ReLU, Reshape\n",
    "from tensorflow.keras.models import Model\n",
    "import random as rn"
   ]
  },
  {
   "cell_type": "markdown",
   "metadata": {
    "id": "bl2voXpM0bAW"
   },
   "source": [
    "<pre>\n",
    "1. You can download the data from this link, and extract it\n",
    "\n",
    "2. All your data will be in the folder \"data\" \n",
    "\n",
    "3. Inside the data you will be having two folders\n",
    "\n",
    "|--- data\n",
    "|-----| ---- images\n",
    "|-----| ------|----- Scene 1\n",
    "|-----| ------|--------| ----- Frame 1 (image 1)\n",
    "|-----| ------|--------| ----- Frame 2 (image 2)\n",
    "|-----| ------|--------| ----- ...\n",
    "|-----| ------|----- Scene 2\n",
    "|-----| ------|--------| ----- Frame 1 (image 1)\n",
    "|-----| ------|--------| ----- Frame 2 (image 2)\n",
    "|-----| ------|--------| ----- ...\n",
    "|-----| ------|----- .....\n",
    "|-----| ---- masks\n",
    "|-----| ------|----- Scene 1\n",
    "|-----| ------|--------| ----- json 1 (labeled objects in image 1)\n",
    "|-----| ------|--------| ----- json 2 (labeled objects in image 1)\n",
    "|-----| ------|--------| ----- ...\n",
    "|-----| ------|----- Scene 2\n",
    "|-----| ------|--------| ----- json 1 (labeled objects in image 1)\n",
    "|-----| ------|--------| ----- json 2 (labeled objects in image 1)\n",
    "|-----| ------|--------| ----- ...\n",
    "|-----| ------|----- .....\n",
    "</pre>"
   ]
  },
  {
   "cell_type": "markdown",
   "metadata": {
    "id": "hWCQ4I4d0bAX"
   },
   "source": [
    "# Task 1: Preprocessing"
   ]
  },
  {
   "cell_type": "markdown",
   "metadata": {
    "id": "r4owX5YO0bAY"
   },
   "source": [
    "## 1. Get all the file name and corresponding json files"
   ]
  },
  {
   "cell_type": "code",
   "execution_count": null,
   "metadata": {
    "id": "p-Q8onrE0bAZ"
   },
   "outputs": [],
   "source": [
    "def return_file_names_df(root_dir):\n",
    "  paths = [list(),list()]\n",
    "  data_files = os.listdir(root_dir)\n",
    "  for i,sub_file in enumerate(data_files):\n",
    "    sub_file_path = root_dir + '/' + sub_file + '/'\n",
    "    folder = os.listdir(sub_file_path)\n",
    "    for folder_name in folder:\n",
    "      path_name_folder_name = root_dir + '/' + sub_file + '/' + folder_name + '/'\n",
    "      files = os.listdir(path_name_folder_name)\n",
    "      for file in files:\n",
    "        if (file.endswith(\"jpg\")):\n",
    "          path_name = root_dir + '/' + sub_file + '/' + folder_name + '/' + file\n",
    "          path_name = str(path_name)\n",
    "          paths[i].append(path_name)\n",
    "\n",
    "        if (file.endswith(\"json\")):\n",
    "          path_name = root_dir + '/' + sub_file + '/' + folder_name + '/' + file\n",
    "          path_name = str(path_name)\n",
    "          paths[i].append(path_name)\n",
    "\n",
    "  # intialise data of lists. \n",
    "  data = {'image':paths[0], \n",
    "        'json':paths[1]} \n",
    "  \n",
    "  # Create DataFrame \n",
    "  data_df = pd.DataFrame(data) \n",
    "       \n",
    "  return data_df"
   ]
  },
  {
   "cell_type": "code",
   "execution_count": null,
   "metadata": {
    "colab": {
     "base_uri": "https://localhost:8080/",
     "height": 204
    },
    "id": "Em4n2bW10bAc",
    "outputId": "904ce121-8aae-4468-95f7-5db2512de4ae",
    "scrolled": true
   },
   "outputs": [
    {
     "data": {
      "text/html": [
       "<div>\n",
       "<style scoped>\n",
       "    .dataframe tbody tr th:only-of-type {\n",
       "        vertical-align: middle;\n",
       "    }\n",
       "\n",
       "    .dataframe tbody tr th {\n",
       "        vertical-align: top;\n",
       "    }\n",
       "\n",
       "    .dataframe thead th {\n",
       "        text-align: right;\n",
       "    }\n",
       "</style>\n",
       "<table border=\"1\" class=\"dataframe\">\n",
       "  <thead>\n",
       "    <tr style=\"text-align: right;\">\n",
       "      <th></th>\n",
       "      <th>image</th>\n",
       "      <th>json</th>\n",
       "    </tr>\n",
       "  </thead>\n",
       "  <tbody>\n",
       "    <tr>\n",
       "      <th>0</th>\n",
       "      <td>data/images/201/frame0029_leftImg8bit.jpg</td>\n",
       "      <td>data/mask/201/frame0029_gtFine_polygons.json</td>\n",
       "    </tr>\n",
       "    <tr>\n",
       "      <th>1</th>\n",
       "      <td>data/images/201/frame0299_leftImg8bit.jpg</td>\n",
       "      <td>data/mask/201/frame0299_gtFine_polygons.json</td>\n",
       "    </tr>\n",
       "    <tr>\n",
       "      <th>2</th>\n",
       "      <td>data/images/201/frame0779_leftImg8bit.jpg</td>\n",
       "      <td>data/mask/201/frame0779_gtFine_polygons.json</td>\n",
       "    </tr>\n",
       "    <tr>\n",
       "      <th>3</th>\n",
       "      <td>data/images/201/frame1019_leftImg8bit.jpg</td>\n",
       "      <td>data/mask/201/frame1019_gtFine_polygons.json</td>\n",
       "    </tr>\n",
       "    <tr>\n",
       "      <th>4</th>\n",
       "      <td>data/images/201/frame1469_leftImg8bit.jpg</td>\n",
       "      <td>data/mask/201/frame1469_gtFine_polygons.json</td>\n",
       "    </tr>\n",
       "  </tbody>\n",
       "</table>\n",
       "</div>"
      ],
      "text/plain": [
       "                                       image                                          json\n",
       "0  data/images/201/frame0029_leftImg8bit.jpg  data/mask/201/frame0029_gtFine_polygons.json\n",
       "1  data/images/201/frame0299_leftImg8bit.jpg  data/mask/201/frame0299_gtFine_polygons.json\n",
       "2  data/images/201/frame0779_leftImg8bit.jpg  data/mask/201/frame0779_gtFine_polygons.json\n",
       "3  data/images/201/frame1019_leftImg8bit.jpg  data/mask/201/frame1019_gtFine_polygons.json\n",
       "4  data/images/201/frame1469_leftImg8bit.jpg  data/mask/201/frame1469_gtFine_polygons.json"
      ]
     },
     "execution_count": 8,
     "metadata": {
      "tags": []
     },
     "output_type": "execute_result"
    }
   ],
   "source": [
    "root_dir = 'data'\n",
    "data_df = return_file_names_df(root_dir)\n",
    "data_df.head()"
   ]
  },
  {
   "cell_type": "code",
   "execution_count": null,
   "metadata": {
    "id": "JBWb3m3ii67H"
   },
   "outputs": [],
   "source": [
    "import json \n",
    "  \n",
    "# Opening JSON file \n",
    "f = open('data/mask/201/frame0029_gtFine_polygons.json',) \n",
    "  \n",
    "# returns JSON object as  \n",
    "# a dictionary \n",
    "data = json.load(f) \n",
    "  \n",
    "# Iterating through the json \n",
    "# list\n",
    "labels = [] \n",
    "for i in data['objects']: \n",
    "  #print(i['label'])\n",
    "  labels.append(i['label']) \n",
    "\n",
    "  \n",
    "# Closing file \n",
    "f.close()"
   ]
  },
  {
   "cell_type": "code",
   "execution_count": null,
   "metadata": {
    "colab": {
     "base_uri": "https://localhost:8080/"
    },
    "id": "bQMojwgBmhhR",
    "outputId": "e7897b4e-7ca6-40a4-9b53-6b02b7ec407f"
   },
   "outputs": [
    {
     "name": "stdout",
     "output_type": "stream",
     "text": [
      "18\n"
     ]
    }
   ],
   "source": [
    "print(len(list(set(labels))))"
   ]
  },
  {
   "cell_type": "markdown",
   "metadata": {
    "id": "uof88SJW0bAf"
   },
   "source": [
    "> If you observe the dataframe, we can consider each row as single data point, where first feature is image and the second feature is corresponding json file"
   ]
  },
  {
   "cell_type": "code",
   "execution_count": null,
   "metadata": {
    "id": "OjMprsim0bAg"
   },
   "outputs": [],
   "source": [
    "\n",
    "def grader_1(data_df):\n",
    "    for i in data_df.values:\n",
    "        if not (path.isfile(i[0]) and path.isfile(i[1]) and i[0][12:i[0].find('_')]==i[1][10:i[1].find('_')]):\n",
    "            return False\n",
    "    return True"
   ]
  },
  {
   "cell_type": "code",
   "execution_count": null,
   "metadata": {
    "colab": {
     "base_uri": "https://localhost:8080/"
    },
    "id": "_fvgVQWF0bAj",
    "outputId": "8c63b8d6-fd8e-4795-90fb-c70c8eac617b"
   },
   "outputs": [
    {
     "data": {
      "text/plain": [
       "True"
      ]
     },
     "execution_count": 12,
     "metadata": {
      "tags": []
     },
     "output_type": "execute_result"
    }
   ],
   "source": [
    "grader_1(data_df)"
   ]
  },
  {
   "cell_type": "markdown",
   "metadata": {
    "id": "DB2-yrRV0bAo"
   },
   "source": [
    "## 2. Structure of sample Json file"
   ]
  },
  {
   "cell_type": "markdown",
   "metadata": {
    "id": "DcqXYpEI0bAp"
   },
   "source": [
    "<img src='https://i.imgur.com/EfR5KmI.png' width=\"200\" height=\"100\">"
   ]
  },
  {
   "cell_type": "markdown",
   "metadata": {
    "id": "97ZcwNbr0bAp"
   },
   "source": [
    "* Each File will have 3 attributes\n",
    "    * imgHeight: which tells the height of the image\n",
    "    * imgWidth: which tells the width of the image\n",
    "    * objects: it is a list of objects, each object will have multiple attributes,\n",
    "        * label: the type of the object\n",
    "        * polygon: a list of two element lists, representing the coordinates of the polygon"
   ]
  },
  {
   "cell_type": "markdown",
   "metadata": {
    "id": "pYrICucM0bAq"
   },
   "source": [
    "#### Compute the unique labels"
   ]
  },
  {
   "cell_type": "markdown",
   "metadata": {
    "id": "t-OYvoA20bAr"
   },
   "source": [
    "Let's see how many unique objects are there in the json file.\n",
    "to see how to get the object from the json file please check <a href='https://www.geeksforgeeks.org/read-json-file-using-python/'>this blog </a>"
   ]
  },
  {
   "cell_type": "code",
   "execution_count": null,
   "metadata": {
    "id": "5su9envb0bAr"
   },
   "outputs": [],
   "source": [
    "\n",
    "def return_unique_labels(data_df):\n",
    "  unique_labels = dict()\n",
    "  for i , row in data_df.iterrows():\n",
    "    # Opening JSON file \n",
    "    f = open(row['json'],) \n",
    "    data = json.load(f)\n",
    "    labels = [] \n",
    "    for i in data['objects']:\n",
    "      labels.append(i['label']) \n",
    "\n",
    "    labels = list(set(labels))  \n",
    "\n",
    "    for label in labels:\n",
    "      unique_labels[label] = unique_labels.get(label, 0) + 1\n",
    "      #if label not in unique_labels:\n",
    "        #unique_labels[label] += 1\n",
    "  return unique_labels"
   ]
  },
  {
   "cell_type": "code",
   "execution_count": null,
   "metadata": {
    "id": "ch8hYKOS0bAu"
   },
   "outputs": [],
   "source": [
    "unique_labels = return_unique_labels(data_df)"
   ]
  },
  {
   "cell_type": "code",
   "execution_count": null,
   "metadata": {
    "colab": {
     "base_uri": "https://localhost:8080/"
    },
    "id": "Z9E1yiAUpv7c",
    "outputId": "20680cad-f8a1-403e-fbbb-a615748c0b23"
   },
   "outputs": [
    {
     "data": {
      "text/plain": [
       "{'animal': 341,\n",
       " 'autorickshaw': 2035,\n",
       " 'bicycle': 321,\n",
       " 'billboard': 2509,\n",
       " 'bridge': 387,\n",
       " 'building': 3136,\n",
       " 'bus': 914,\n",
       " 'car': 2981,\n",
       " 'caravan': 53,\n",
       " 'curb': 2447,\n",
       " 'drivable fallback': 3616,\n",
       " 'ego vehicle': 2,\n",
       " 'fallback background': 893,\n",
       " 'fence': 1024,\n",
       " 'ground': 2,\n",
       " 'guard rail': 728,\n",
       " 'motorcycle': 2955,\n",
       " 'non-drivable fallback': 2931,\n",
       " 'obs-str-bar-fallback': 3972,\n",
       " 'out of roi': 127,\n",
       " 'parking': 17,\n",
       " 'person': 2422,\n",
       " 'pole': 3866,\n",
       " 'polegroup': 337,\n",
       " 'rail track': 4,\n",
       " 'rectification border': 3,\n",
       " 'rider': 2825,\n",
       " 'road': 3861,\n",
       " 'sidewalk': 617,\n",
       " 'sky': 3991,\n",
       " 'traffic light': 167,\n",
       " 'traffic sign': 1728,\n",
       " 'trailer': 6,\n",
       " 'train': 4,\n",
       " 'truck': 2090,\n",
       " 'tunnel': 5,\n",
       " 'unlabeled': 2,\n",
       " 'vegetation': 3984,\n",
       " 'vehicle fallback': 2459,\n",
       " 'wall': 2180}"
      ]
     },
     "execution_count": 16,
     "metadata": {
      "tags": []
     },
     "output_type": "execute_result"
    }
   ],
   "source": [
    "unique_labels"
   ]
  },
  {
   "cell_type": "markdown",
   "metadata": {
    "id": "6mSHuX4Y0bAw"
   },
   "source": [
    "<img src='https://i.imgur.com/L4QH6Tp.png'>"
   ]
  },
  {
   "cell_type": "code",
   "execution_count": 5,
   "metadata": {
    "id": "Gnbt7MSc0bAw"
   },
   "outputs": [],
   "source": [
    "label_clr = {'road':10, 'parking':20, 'drivable fallback':20,'sidewalk':30,'non-drivable fallback':40,'rail track':40,\\\n",
    "                        'person':50, 'animal':50, 'rider':60, 'motorcycle':70, 'bicycle':70, 'autorickshaw':80,\\\n",
    "                        'car':80, 'truck':90, 'bus':90, 'vehicle fallback':90, 'trailer':90, 'caravan':90,\\\n",
    "                        'curb':100, 'wall':100, 'fence':110,'guard rail':110, 'billboard':120,'traffic sign':120,\\\n",
    "                        'traffic light':120, 'pole':130, 'polegroup':130, 'obs-str-bar-fallback':130,'building':140,\\\n",
    "                        'bridge':140,'tunnel':140, 'vegetation':150, 'sky':160, 'fallback background':160,'unlabeled':0,\\\n",
    "                        'out of roi':0, 'ego vehicle':170, 'ground':180,'rectification border':190,\\\n",
    "                   'train':200}"
   ]
  },
  {
   "cell_type": "code",
   "execution_count": 6,
   "metadata": {
    "colab": {
     "base_uri": "https://localhost:8080/"
    },
    "id": "8VTkEdri7ays",
    "outputId": "f0a934cd-4a39-496b-c13a-e395e9545484"
   },
   "outputs": [
    {
     "data": {
      "text/plain": [
       "[0,\n",
       " 10,\n",
       " 20,\n",
       " 30,\n",
       " 40,\n",
       " 50,\n",
       " 60,\n",
       " 70,\n",
       " 80,\n",
       " 90,\n",
       " 100,\n",
       " 110,\n",
       " 120,\n",
       " 130,\n",
       " 140,\n",
       " 150,\n",
       " 160,\n",
       " 170,\n",
       " 180,\n",
       " 190,\n",
       " 200]"
      ]
     },
     "execution_count": 6,
     "metadata": {
      "tags": []
     },
     "output_type": "execute_result"
    }
   ],
   "source": [
    "class_label = [i for i in label_clr.values()]\n",
    "class_label = list(set(class_label))\n",
    "class_label = sorted(class_label)\n",
    "class_label"
   ]
  },
  {
   "cell_type": "code",
   "execution_count": 7,
   "metadata": {
    "colab": {
     "base_uri": "https://localhost:8080/"
    },
    "id": "qPuuN7UB0bAz",
    "outputId": "c86b8b4e-d82c-4284-ef54-7c95469e5e7f",
    "scrolled": true
   },
   "outputs": [
    {
     "name": "stdout",
     "output_type": "stream",
     "text": [
      "True\n"
     ]
    }
   ],
   "source": [
    "def grader_2(unique_labels):\n",
    "    if (not (set(label_clr.keys())-set(unique_labels))) and len(unique_labels) == 40:\n",
    "        print(\"True\")\n",
    "    else:\n",
    "        print(\"Flase\")\n",
    "\n",
    "grader_2(label_clr)"
   ]
  },
  {
   "cell_type": "markdown",
   "metadata": {
    "id": "3xmUIzX00bA2"
   },
   "source": [
    "<pre>\n",
    "* here we have given a number for each of object types, if you see we are having 21 different set of objects\n",
    "* Note that we have multiplies each object's number with 10, that is just to make different objects look differently in the segmentation map\n",
    "* Before you pass it to the models, you might need to devide the image array /10.\n",
    "</pre>"
   ]
  },
  {
   "cell_type": "markdown",
   "metadata": {
    "id": "RzUK6FMJ0bA2"
   },
   "source": [
    "## 3. Extracting the polygons from the json files"
   ]
  },
  {
   "cell_type": "code",
   "execution_count": null,
   "metadata": {
    "id": "vkDi9FmcyKiG"
   },
   "outputs": [],
   "source": [
    "file = 'data/mask/201/frame0029_gtFine_polygons.json'\n",
    "def get_poly(file):\n",
    "  f = open(file,)\n",
    "  data = json.load(f) \n",
    "  h = data['imgHeight']\n",
    "  w = data['imgWidth']\n",
    "  label = []\n",
    "  vertexlist = []\n",
    "  for i in data['objects']:\n",
    "    label.append(i['label']) \n",
    "    polygon = i['polygon']\n",
    "    polygon = [tuple(i) for i in polygon]\n",
    "    vertexlist.append(polygon)\n",
    "\n",
    "\n",
    "  return w, h, label, vertexlist  "
   ]
  },
  {
   "cell_type": "code",
   "execution_count": null,
   "metadata": {
    "colab": {
     "base_uri": "https://localhost:8080/"
    },
    "id": "FlcCswQR0bA5",
    "outputId": "e9e0a474-a6a5-48cc-fc46-44e33dc7f491",
    "scrolled": true
   },
   "outputs": [
    {
     "name": "stdout",
     "output_type": "stream",
     "text": [
      "True\n"
     ]
    }
   ],
   "source": [
    "def grader_3(file):\n",
    "    w, h, labels, vertexlist = get_poly(file)\n",
    "    print(len((set(labels)))==18 and len(vertexlist)==227 and w==1920 and h==1080 \\\n",
    "          and isinstance(vertexlist,list) and isinstance(vertexlist[0],list) and isinstance(vertexlist[0][0],tuple) )\n",
    "\n",
    "grader_3('data/mask/201/frame0029_gtFine_polygons.json')"
   ]
  },
  {
   "cell_type": "markdown",
   "metadata": {
    "id": "lw2MH_ua0bA8"
   },
   "source": [
    "## 4. Creating Image segmentations by drawing set of polygons"
   ]
  },
  {
   "cell_type": "markdown",
   "metadata": {
    "id": "mLrtu1f80bA8"
   },
   "source": [
    "### Example"
   ]
  },
  {
   "cell_type": "code",
   "execution_count": null,
   "metadata": {
    "colab": {
     "base_uri": "https://localhost:8080/",
     "height": 758
    },
    "id": "-O7l9Xfj0bA9",
    "outputId": "d2c633cc-ea73-436e-b936-727087f41478",
    "scrolled": false
   },
   "outputs": [
    {
     "name": "stdout",
     "output_type": "stream",
     "text": [
      "(28, 28, 3)\n",
      "[[0 0 0 0 0 0 0 0 2 0 0 0 0 0 0 0 0 0 0 0 0 0 0 0 0 0 0 0]\n",
      " [0 0 2 2 2 2 2 2 2 2 2 2 2 2 2 2 0 0 0 0 0 0 0 0 0 0 0 0]\n",
      " [0 0 2 2 2 2 2 2 2 2 2 2 2 2 2 2 2 0 0 0 0 0 0 0 0 0 0 0]\n",
      " [0 2 2 2 2 2 2 2 2 2 2 2 2 2 2 2 2 0 0 0 0 0 0 0 0 0 0 0]\n",
      " [0 2 2 2 2 2 2 2 2 2 2 2 2 2 2 2 2 2 0 0 0 0 0 0 0 0 0 0]\n",
      " [2 2 2 2 2 2 2 2 2 2 2 2 2 2 2 2 2 2 0 0 0 0 0 0 0 0 0 0]\n",
      " [2 2 2 2 2 2 2 2 2 2 2 2 2 2 2 2 2 2 2 0 0 0 0 0 0 0 0 0]\n",
      " [0 2 2 2 2 2 2 2 2 2 2 2 2 2 2 2 2 2 0 0 0 0 0 0 0 0 0 0]\n",
      " [0 2 2 2 2 2 2 2 2 2 2 2 2 2 2 2 2 0 0 0 0 0 0 0 0 0 0 0]\n",
      " [0 0 2 2 2 2 2 2 2 2 2 2 2 2 2 2 2 0 0 0 0 0 0 0 0 0 0 0]\n",
      " [0 0 2 2 2 2 2 2 2 2 2 2 2 2 2 2 0 0 0 0 0 0 0 0 0 0 0 0]\n",
      " [0 0 0 0 0 0 2 2 2 2 2 2 2 0 0 0 0 0 0 0 0 0 0 0 0 0 0 0]\n",
      " [0 0 0 0 0 0 0 0 0 2 0 0 0 0 0 0 0 3 0 0 0 0 0 0 0 0 0 0]\n",
      " [0 0 0 0 0 0 0 0 0 0 0 3 3 3 3 3 3 3 3 3 3 3 3 3 3 0 0 0]\n",
      " [0 0 0 0 0 0 0 0 0 0 0 3 3 3 3 3 3 3 3 3 3 3 3 3 3 3 0 0]\n",
      " [0 0 0 0 0 0 0 0 0 0 3 3 3 3 3 3 3 3 3 3 3 3 3 3 3 3 0 0]\n",
      " [0 0 0 0 0 0 0 0 0 0 3 3 3 3 3 3 3 3 3 3 3 3 3 3 3 3 3 0]\n",
      " [0 0 0 0 0 0 0 0 0 3 3 3 3 3 3 3 3 3 3 3 3 3 3 3 3 3 3 0]\n",
      " [0 0 0 0 0 0 0 0 0 3 3 3 3 3 3 3 3 3 3 3 3 3 3 3 3 3 3 3]\n",
      " [0 0 0 0 0 0 0 0 0 0 3 3 3 3 3 3 3 3 3 3 3 3 3 3 3 3 3 0]\n",
      " [0 0 0 0 0 0 0 0 0 0 3 3 3 3 3 3 3 3 3 3 3 3 3 3 3 3 0 0]\n",
      " [0 0 0 0 0 0 0 0 0 0 0 3 3 3 3 3 3 3 3 3 3 3 3 3 3 3 0 0]\n",
      " [0 0 0 0 0 0 0 0 0 0 0 3 3 3 3 3 3 3 3 3 3 3 3 3 3 0 0 0]\n",
      " [0 0 0 0 0 0 0 0 0 0 0 0 0 0 0 3 3 3 3 3 3 3 0 0 0 0 0 0]\n",
      " [0 0 0 0 0 0 0 0 0 0 0 0 0 0 0 0 0 0 3 0 0 0 0 0 0 0 0 0]\n",
      " [0 0 0 0 0 0 0 0 0 0 0 0 0 0 0 0 0 0 0 0 0 0 0 0 0 0 0 0]\n",
      " [0 0 0 0 0 0 0 0 0 0 0 0 0 0 0 0 0 0 0 0 0 0 0 0 0 0 0 0]\n",
      " [0 0 0 0 0 0 0 0 0 0 0 0 0 0 0 0 0 0 0 0 0 0 0 0 0 0 0 0]]\n"
     ]
    },
    {
     "data": {
      "image/png": "[encoded data removed]",
      "text/plain": [
       "<Figure size 432x288 with 1 Axes>"
      ]
     },
     "metadata": {
      "needs_background": "light",
      "tags": []
     },
     "output_type": "display_data"
    }
   ],
   "source": [
    "import math \n",
    "from PIL import Image, ImageDraw \n",
    "from PIL import ImagePath  \n",
    "side=8\n",
    "x1 = [ ((math.cos(th) + 1) *9, (math.sin(th) + 1) * 6) for th in [i * (2 * math.pi) / side for i in range(side)] ]\n",
    "x2 = [ ((math.cos(th) + 2) *9, (math.sin(th) + 3) *6) for th in [i * (2 * math.pi) / side for i in range(side)] ]\n",
    "\n",
    "img = Image.new(\"RGB\", (28,28))\n",
    "img1 = ImageDraw.Draw(img)\n",
    "# please play with the fill value\n",
    "# writing the first polygon\n",
    "img1.polygon(x1, fill =20)\n",
    "# writing the second polygon\n",
    "img1.polygon(x2, fill =30)\n",
    "\n",
    "img=np.array(img)\n",
    "# note that the filling of the values happens at the channel 1, so we are considering only the first channel here\n",
    "plt.imshow(img[:,:,0])\n",
    "print(img.shape)\n",
    "print(img[:,:,0]//10)\n",
    "im = Image.fromarray(img[:,:,0])\n",
    "im.save(\"test_image.png\")"
   ]
  },
  {
   "cell_type": "code",
   "execution_count": null,
   "metadata": {
    "id": "GYpd9VUcgCsk"
   },
   "outputs": [],
   "source": [
    "file = 'data/mask/201/frame0029_gtFine_polygons.json'\n",
    "w, h, labels, vertexlist = get_poly(file)"
   ]
  },
  {
   "cell_type": "code",
   "execution_count": null,
   "metadata": {
    "id": "bnAzJJhq0bBB"
   },
   "outputs": [],
   "source": [
    "def compute_masks(data_df):\n",
    "  mask = []\n",
    "  for i , row in data_df.iterrows():\n",
    "    file = row['json']\n",
    "    file1 = row['image']\n",
    "    w, h, labels, vertexlist = get_poly(file)\n",
    "\n",
    "    s = file1\n",
    "    s = s.split('/')\n",
    "    s = [i.split('.') for i in s]\n",
    "    \n",
    "    path = s[0][0] + '/' + 'output' + '/' + s[2][0] + '/' +s[3][0] + '.jpg'\n",
    "    path = str(path)\n",
    "\n",
    "    img = Image.new(\"RGB\", (w, h))\n",
    "    img1 = ImageDraw.Draw(img)\n",
    "    found = 0\n",
    "    for i in range(len(vertexlist)):\n",
    "      if len(vertexlist[i]) == 0:\n",
    "        found = 1\n",
    "\n",
    "    if found == 0:\n",
    "      for i in range(len(vertexlist)):\n",
    "        img1.polygon(vertexlist[i], fill = label_clr[labels[i]])\n",
    "      img=np.array(img)\n",
    "      im = Image.fromarray(img[:,:,0])\n",
    "      mask.append(path)\n",
    "      im.save(path)\n",
    "    else:\n",
    "      mask.append('Nan')\n",
    "\n",
    "  data_df['mask'] = mask\n",
    "    \n",
    "  return data_df"
   ]
  },
  {
   "cell_type": "code",
   "execution_count": null,
   "metadata": {},
   "outputs": [],
   "source": [
    "data_df = compute_masks(data_df)"
   ]
  },
  {
   "cell_type": "code",
   "execution_count": null,
   "metadata": {
    "id": "f7nCVCB9hFgI"
   },
   "outputs": [],
   "source": [
    "data_df.to_csv('preprocessed_data.csv', index=False)"
   ]
  },
  {
   "cell_type": "code",
   "execution_count": null,
   "metadata": {
    "id": "R9Edf0kzVsJb"
   },
   "outputs": [],
   "source": [
    "import matplotlib.pyplot as plt\n"
   ]
  },
  {
   "cell_type": "code",
   "execution_count": null,
   "metadata": {
    "colab": {
     "base_uri": "https://localhost:8080/",
     "height": 291
    },
    "id": "_V8Z1FLQ21Ph",
    "outputId": "5e9cfc1f-6813-4b02-9ab4-b7ed34e5129e"
   },
   "outputs": [
    {
     "name": "stdout",
     "output_type": "stream",
     "text": [
      "True\n",
      "[  0  10  20  40  50  60  70  80  90 100 120 130 140 150 160]\n",
      "[  0  10  20  40  50  60  70  80  90 100 120 130 140 150 160]\n"
     ]
    },
    {
     "data": {
      "image/png": "[encoded data removed]",
      "text/plain": [
       "<Figure size 432x288 with 1 Axes>"
      ]
     },
     "metadata": {
      "needs_background": "light",
      "tags": []
     },
     "output_type": "display_data"
    }
   ],
   "source": [
    "# i  created two dataframe one with .png format and another with .jpg file because .png file is not \n",
    "# supported in further down data pipeline.\n",
    "import urllib.request\n",
    "def grader_3():\n",
    "    url = \"https://i.imgur.com/4XSUlHk.png\"\n",
    "    url_response = urllib.request.urlopen(url)\n",
    "    img_array = np.array(bytearray(url_response.read()), dtype=np.uint8)\n",
    "    img = cv2.imdecode(img_array, -1)\n",
    "    my_img = cv2.imread('data4/output/201/frame0029_gtFine_polygons.png')    \n",
    "    plt.imshow(my_img)\n",
    "    print((my_img[:,:,0]==img).all())\n",
    "    print(np.unique(img))\n",
    "    print(np.unique(my_img[:,:,0]))\n",
    "    data_df.to_csv('preprocessed_data.csv', index=False)\n",
    "grader_3()"
   ]
  },
  {
   "cell_type": "code",
   "execution_count": null,
   "metadata": {
    "id": "lNBHfXcYTWQX"
   },
   "outputs": [],
   "source": [
    "import pandas as pd\n",
    "df = pd.read_csv('preprocessed_data.csv')"
   ]
  },
  {
   "cell_type": "code",
   "execution_count": null,
   "metadata": {
    "colab": {
     "base_uri": "https://localhost:8080/"
    },
    "id": "kgDZzJ_oVDMO",
    "outputId": "b8078e6b-8ed1-48f5-d252-52f2b5d5f44a"
   },
   "outputs": [
    {
     "data": {
      "text/plain": [
       "(4001, 3)"
      ]
     },
     "execution_count": 8,
     "metadata": {
      "tags": []
     },
     "output_type": "execute_result"
    }
   ],
   "source": [
    "d = df[(df['mask'] != 'Nan')]\n",
    "d.shape\n"
   ]
  },
  {
   "cell_type": "markdown",
   "metadata": {
    "id": "t9RPr0aZ0bBU"
   },
   "source": [
    "# Task 2: Applying Unet to segment the images"
   ]
  },
  {
   "cell_type": "markdown",
   "metadata": {
    "id": "HDRjb4AD0bBV"
   },
   "source": [
    "<pre>\n",
    "* please check the paper: https://arxiv.org/abs/1505.04597\n",
    "\n",
    "* <img src='https://i.imgur.com/rD4yP7J.jpg' width=\"500\">\n",
    "\n",
    "* As a part of this assignment we won't writingt this whole architecture, rather we will be doing transfer learning\n",
    "\n",
    "* please check the library <a hreaf='https://github.com/qubvel/segmentation_models'>https://github.com/qubvel/segmentation_models</a>\n",
    "\n",
    "* You can install it like this \"pip install -U segmentation-models==0.2.1\", even in google colab you can install the    same with \"!pip install -U segmentation-models==0.2.1\" \n",
    "\n",
    "* Check the reference notebook in which we have solved one end to end case study of image forgery detection using same  unet\n",
    "\n",
    "* The number of channels in the output will depend on the number of classes in your data, since we know that we are having 21 classes, the number of channels in the output will also be 21\n",
    "\n",
    "* <strong>This is where we want you to explore, how do you featurize your created segmentation map note that the original map will be of (w, h, 1) and the output will be (w, h, 21) how will you calculate the loss</strong>, you can check the examples in segmentation github\n",
    "\n",
    "* please use the loss function that is used in the refence notebooks\n",
    "\n",
    "</pre>"
   ]
  },
  {
   "cell_type": "code",
   "execution_count": null,
   "metadata": {
    "id": "rvvN2td3pn0X"
   },
   "outputs": [],
   "source": [
    "file_name = []\n",
    "for i , row in d.iterrows():\n",
    "  f = []\n",
    "  s = row['image']\n",
    "  t = row['mask']\n",
    "  #s = s.split('/')\n",
    "  #s = [i.split('.') for i in s]\n",
    "  f.append(s)\n",
    "  f.append(t)\n",
    "  file_name.append(f)\n",
    "\n"
   ]
  },
  {
   "cell_type": "code",
   "execution_count": null,
   "metadata": {
    "colab": {
     "base_uri": "https://localhost:8080/"
    },
    "id": "Ntf8udhUqYot",
    "outputId": "bbfc59e4-2bf5-4626-c9b2-b8dfb3de39d2"
   },
   "outputs": [
    {
     "data": {
      "text/plain": [
       "4001"
      ]
     },
     "execution_count": 14,
     "metadata": {
      "tags": []
     },
     "output_type": "execute_result"
    }
   ],
   "source": [
    "len(file_name)"
   ]
  },
  {
   "cell_type": "code",
   "execution_count": null,
   "metadata": {
    "id": "N5_lP3Z9G8Nr"
   },
   "outputs": [],
   "source": [
    "from sklearn.model_selection import train_test_split\n",
    "X_train, X_test = train_test_split(list(file_name), test_size=0.15, random_state=42)"
   ]
  },
  {
   "cell_type": "code",
   "execution_count": null,
   "metadata": {
    "colab": {
     "base_uri": "https://localhost:8080/"
    },
    "id": "1AD7jCVrqz3x",
    "outputId": "42ee7764-dd81-4afe-cde5-76380d3d7543"
   },
   "outputs": [
    {
     "name": "stdout",
     "output_type": "stream",
     "text": [
      "Collecting segmentation-models\n",
      "  Downloading https://files.pythonhosted.org/packages/da/b9/4a183518c21689a56b834eaaa45cad242d9ec09a4360b5b10139f23c63f4/segmentation_models-1.0.1-py3-none-any.whl\n",
      "Collecting efficientnet==1.0.0\n",
      "  Downloading https://files.pythonhosted.org/packages/97/82/f3ae07316f0461417dc54affab6e86ab188a5a22f33176d35271628b96e0/efficientnet-1.0.0-py3-none-any.whl\n",
      "Collecting image-classifiers==1.0.0\n",
      "  Downloading https://files.pythonhosted.org/packages/81/98/6f84720e299a4942ab80df5f76ab97b7828b24d1de5e9b2cbbe6073228b7/image_classifiers-1.0.0-py3-none-any.whl\n",
      "Collecting keras-applications<=1.0.8,>=1.0.7\n",
      "\u001b[?25l  Downloading https://files.pythonhosted.org/packages/71/e3/19762fdfc62877ae9102edf6342d71b28fbfd9dea3d2f96a882ce099b03f/Keras_Applications-1.0.8-py3-none-any.whl (50kB)\n",
      "\u001b[K     |████████████████████████████████| 51kB 4.3MB/s \n",
      "\u001b[?25hRequirement already satisfied, skipping upgrade: scikit-image in /usr/local/lib/python3.7/dist-packages (from efficientnet==1.0.0->segmentation-models) (0.16.2)\n",
      "Requirement already satisfied, skipping upgrade: numpy>=1.9.1 in /usr/local/lib/python3.7/dist-packages (from keras-applications<=1.0.8,>=1.0.7->segmentation-models) (1.19.5)\n",
      "Requirement already satisfied, skipping upgrade: h5py in /usr/local/lib/python3.7/dist-packages (from keras-applications<=1.0.8,>=1.0.7->segmentation-models) (2.10.0)\n",
      "Requirement already satisfied, skipping upgrade: PyWavelets>=0.4.0 in /usr/local/lib/python3.7/dist-packages (from scikit-image->efficientnet==1.0.0->segmentation-models) (1.1.1)\n",
      "Requirement already satisfied, skipping upgrade: matplotlib!=3.0.0,>=2.0.0 in /usr/local/lib/python3.7/dist-packages (from scikit-image->efficientnet==1.0.0->segmentation-models) (3.2.2)\n",
      "Requirement already satisfied, skipping upgrade: pillow>=4.3.0 in /usr/local/lib/python3.7/dist-packages (from scikit-image->efficientnet==1.0.0->segmentation-models) (7.0.0)\n",
      "Requirement already satisfied, skipping upgrade: scipy>=0.19.0 in /usr/local/lib/python3.7/dist-packages (from scikit-image->efficientnet==1.0.0->segmentation-models) (1.4.1)\n",
      "Requirement already satisfied, skipping upgrade: networkx>=2.0 in /usr/local/lib/python3.7/dist-packages (from scikit-image->efficientnet==1.0.0->segmentation-models) (2.5)\n",
      "Requirement already satisfied, skipping upgrade: imageio>=2.3.0 in /usr/local/lib/python3.7/dist-packages (from scikit-image->efficientnet==1.0.0->segmentation-models) (2.4.1)\n",
      "Requirement already satisfied, skipping upgrade: six in /usr/local/lib/python3.7/dist-packages (from h5py->keras-applications<=1.0.8,>=1.0.7->segmentation-models) (1.15.0)\n",
      "Requirement already satisfied, skipping upgrade: python-dateutil>=2.1 in /usr/local/lib/python3.7/dist-packages (from matplotlib!=3.0.0,>=2.0.0->scikit-image->efficientnet==1.0.0->segmentation-models) (2.8.1)\n",
      "Requirement already satisfied, skipping upgrade: kiwisolver>=1.0.1 in /usr/local/lib/python3.7/dist-packages (from matplotlib!=3.0.0,>=2.0.0->scikit-image->efficientnet==1.0.0->segmentation-models) (1.3.1)\n",
      "Requirement already satisfied, skipping upgrade: cycler>=0.10 in /usr/local/lib/python3.7/dist-packages (from matplotlib!=3.0.0,>=2.0.0->scikit-image->efficientnet==1.0.0->segmentation-models) (0.10.0)\n",
      "Requirement already satisfied, skipping upgrade: pyparsing!=2.0.4,!=2.1.2,!=2.1.6,>=2.0.1 in /usr/local/lib/python3.7/dist-packages (from matplotlib!=3.0.0,>=2.0.0->scikit-image->efficientnet==1.0.0->segmentation-models) (2.4.7)\n",
      "Requirement already satisfied, skipping upgrade: decorator>=4.3.0 in /usr/local/lib/python3.7/dist-packages (from networkx>=2.0->scikit-image->efficientnet==1.0.0->segmentation-models) (4.4.2)\n",
      "Installing collected packages: keras-applications, efficientnet, image-classifiers, segmentation-models\n",
      "Successfully installed efficientnet-1.0.0 image-classifiers-1.0.0 keras-applications-1.0.8 segmentation-models-1.0.1\n"
     ]
    }
   ],
   "source": [
    "!pip install -U --pre segmentation-models"
   ]
  },
  {
   "cell_type": "code",
   "execution_count": null,
   "metadata": {
    "colab": {
     "base_uri": "https://localhost:8080/"
    },
    "id": "SFIDi8ZsHgQ6",
    "outputId": "37368207-9b1b-4b38-b83c-3b75adcc84f4"
   },
   "outputs": [
    {
     "name": "stdout",
     "output_type": "stream",
     "text": [
      "env: SM_FRAMEWORK=tf.keras\n",
      "Segmentation Models: using `tf.keras` framework.\n"
     ]
    }
   ],
   "source": [
    "%env SM_FRAMEWORK=tf.keras\n",
    "import segmentation_models as sm\n",
    "from segmentation_models import Unet\n",
    "sm.set_framework('tf.keras')\n",
    "tf.keras.backend.set_image_data_format('channels_last')"
   ]
  },
  {
   "cell_type": "code",
   "execution_count": null,
   "metadata": {
    "colab": {
     "base_uri": "https://localhost:8080/"
    },
    "id": "r3Uq8VS1gn2e",
    "outputId": "256ad2f5-2be5-4988-db3f-853bf70749a7"
   },
   "outputs": [
    {
     "name": "stdout",
     "output_type": "stream",
     "text": [
      "Downloading data from https://github.com/qubvel/classification_models/releases/download/0.0.1/resnet34_imagenet_1000_no_top.h5\n",
      "85524480/85521592 [==============================] - 1s 0us/step\n"
     ]
    }
   ],
   "source": [
    "# loading the unet model and using the resnet 34 and initilized weights with imagenet weights\n",
    "# \"classes\" :different types of classes in the dataset\n",
    "model = Unet('resnet34', encoder_weights='imagenet', classes=21, activation='softmax', encoder_freeze = True, input_shape=(512,512,3))"
   ]
  },
  {
   "cell_type": "code",
   "execution_count": null,
   "metadata": {
    "colab": {
     "base_uri": "https://localhost:8080/"
    },
    "id": "WmtlBDL2greM",
    "outputId": "09ef5b56-25a8-4ee4-b589-56b862a21707"
   },
   "outputs": [
    {
     "name": "stdout",
     "output_type": "stream",
     "text": [
      "Model: \"model_1\"\n",
      "__________________________________________________________________________________________________\n",
      "Layer (type)                    Output Shape         Param #     Connected to                     \n",
      "==================================================================================================\n",
      "data (InputLayer)               [(None, 512, 512, 3) 0                                            \n",
      "__________________________________________________________________________________________________\n",
      "bn_data (BatchNormalization)    (None, 512, 512, 3)  9           data[0][0]                       \n",
      "__________________________________________________________________________________________________\n",
      "zero_padding2d (ZeroPadding2D)  (None, 518, 518, 3)  0           bn_data[0][0]                    \n",
      "__________________________________________________________________________________________________\n",
      "conv0 (Conv2D)                  (None, 256, 256, 64) 9408        zero_padding2d[0][0]             \n",
      "__________________________________________________________________________________________________\n",
      "bn0 (BatchNormalization)        (None, 256, 256, 64) 256         conv0[0][0]                      \n",
      "__________________________________________________________________________________________________\n",
      "relu0 (Activation)              (None, 256, 256, 64) 0           bn0[0][0]                        \n",
      "__________________________________________________________________________________________________\n",
      "zero_padding2d_1 (ZeroPadding2D (None, 258, 258, 64) 0           relu0[0][0]                      \n",
      "__________________________________________________________________________________________________\n",
      "pooling0 (MaxPooling2D)         (None, 128, 128, 64) 0           zero_padding2d_1[0][0]           \n",
      "__________________________________________________________________________________________________\n",
      "stage1_unit1_bn1 (BatchNormaliz (None, 128, 128, 64) 256         pooling0[0][0]                   \n",
      "__________________________________________________________________________________________________\n",
      "stage1_unit1_relu1 (Activation) (None, 128, 128, 64) 0           stage1_unit1_bn1[0][0]           \n",
      "__________________________________________________________________________________________________\n",
      "zero_padding2d_2 (ZeroPadding2D (None, 130, 130, 64) 0           stage1_unit1_relu1[0][0]         \n",
      "__________________________________________________________________________________________________\n",
      "stage1_unit1_conv1 (Conv2D)     (None, 128, 128, 64) 36864       zero_padding2d_2[0][0]           \n",
      "__________________________________________________________________________________________________\n",
      "stage1_unit1_bn2 (BatchNormaliz (None, 128, 128, 64) 256         stage1_unit1_conv1[0][0]         \n",
      "__________________________________________________________________________________________________\n",
      "stage1_unit1_relu2 (Activation) (None, 128, 128, 64) 0           stage1_unit1_bn2[0][0]           \n",
      "__________________________________________________________________________________________________\n",
      "zero_padding2d_3 (ZeroPadding2D (None, 130, 130, 64) 0           stage1_unit1_relu2[0][0]         \n",
      "__________________________________________________________________________________________________\n",
      "stage1_unit1_conv2 (Conv2D)     (None, 128, 128, 64) 36864       zero_padding2d_3[0][0]           \n",
      "__________________________________________________________________________________________________\n",
      "stage1_unit1_sc (Conv2D)        (None, 128, 128, 64) 4096        stage1_unit1_relu1[0][0]         \n",
      "__________________________________________________________________________________________________\n",
      "add (Add)                       (None, 128, 128, 64) 0           stage1_unit1_conv2[0][0]         \n",
      "                                                                 stage1_unit1_sc[0][0]            \n",
      "__________________________________________________________________________________________________\n",
      "stage1_unit2_bn1 (BatchNormaliz (None, 128, 128, 64) 256         add[0][0]                        \n",
      "__________________________________________________________________________________________________\n",
      "stage1_unit2_relu1 (Activation) (None, 128, 128, 64) 0           stage1_unit2_bn1[0][0]           \n",
      "__________________________________________________________________________________________________\n",
      "zero_padding2d_4 (ZeroPadding2D (None, 130, 130, 64) 0           stage1_unit2_relu1[0][0]         \n",
      "__________________________________________________________________________________________________\n",
      "stage1_unit2_conv1 (Conv2D)     (None, 128, 128, 64) 36864       zero_padding2d_4[0][0]           \n",
      "__________________________________________________________________________________________________\n",
      "stage1_unit2_bn2 (BatchNormaliz (None, 128, 128, 64) 256         stage1_unit2_conv1[0][0]         \n",
      "__________________________________________________________________________________________________\n",
      "stage1_unit2_relu2 (Activation) (None, 128, 128, 64) 0           stage1_unit2_bn2[0][0]           \n",
      "__________________________________________________________________________________________________\n",
      "zero_padding2d_5 (ZeroPadding2D (None, 130, 130, 64) 0           stage1_unit2_relu2[0][0]         \n",
      "__________________________________________________________________________________________________\n",
      "stage1_unit2_conv2 (Conv2D)     (None, 128, 128, 64) 36864       zero_padding2d_5[0][0]           \n",
      "__________________________________________________________________________________________________\n",
      "add_1 (Add)                     (None, 128, 128, 64) 0           stage1_unit2_conv2[0][0]         \n",
      "                                                                 add[0][0]                        \n",
      "__________________________________________________________________________________________________\n",
      "stage1_unit3_bn1 (BatchNormaliz (None, 128, 128, 64) 256         add_1[0][0]                      \n",
      "__________________________________________________________________________________________________\n",
      "stage1_unit3_relu1 (Activation) (None, 128, 128, 64) 0           stage1_unit3_bn1[0][0]           \n",
      "__________________________________________________________________________________________________\n",
      "zero_padding2d_6 (ZeroPadding2D (None, 130, 130, 64) 0           stage1_unit3_relu1[0][0]         \n",
      "__________________________________________________________________________________________________\n",
      "stage1_unit3_conv1 (Conv2D)     (None, 128, 128, 64) 36864       zero_padding2d_6[0][0]           \n",
      "__________________________________________________________________________________________________\n",
      "stage1_unit3_bn2 (BatchNormaliz (None, 128, 128, 64) 256         stage1_unit3_conv1[0][0]         \n",
      "__________________________________________________________________________________________________\n",
      "stage1_unit3_relu2 (Activation) (None, 128, 128, 64) 0           stage1_unit3_bn2[0][0]           \n",
      "__________________________________________________________________________________________________\n",
      "zero_padding2d_7 (ZeroPadding2D (None, 130, 130, 64) 0           stage1_unit3_relu2[0][0]         \n",
      "__________________________________________________________________________________________________\n",
      "stage1_unit3_conv2 (Conv2D)     (None, 128, 128, 64) 36864       zero_padding2d_7[0][0]           \n",
      "__________________________________________________________________________________________________\n",
      "add_2 (Add)                     (None, 128, 128, 64) 0           stage1_unit3_conv2[0][0]         \n",
      "                                                                 add_1[0][0]                      \n",
      "__________________________________________________________________________________________________\n",
      "stage2_unit1_bn1 (BatchNormaliz (None, 128, 128, 64) 256         add_2[0][0]                      \n",
      "__________________________________________________________________________________________________\n",
      "stage2_unit1_relu1 (Activation) (None, 128, 128, 64) 0           stage2_unit1_bn1[0][0]           \n",
      "__________________________________________________________________________________________________\n",
      "zero_padding2d_8 (ZeroPadding2D (None, 130, 130, 64) 0           stage2_unit1_relu1[0][0]         \n",
      "__________________________________________________________________________________________________\n",
      "stage2_unit1_conv1 (Conv2D)     (None, 64, 64, 128)  73728       zero_padding2d_8[0][0]           \n",
      "__________________________________________________________________________________________________\n",
      "stage2_unit1_bn2 (BatchNormaliz (None, 64, 64, 128)  512         stage2_unit1_conv1[0][0]         \n",
      "__________________________________________________________________________________________________\n",
      "stage2_unit1_relu2 (Activation) (None, 64, 64, 128)  0           stage2_unit1_bn2[0][0]           \n",
      "__________________________________________________________________________________________________\n",
      "zero_padding2d_9 (ZeroPadding2D (None, 66, 66, 128)  0           stage2_unit1_relu2[0][0]         \n",
      "__________________________________________________________________________________________________\n",
      "stage2_unit1_conv2 (Conv2D)     (None, 64, 64, 128)  147456      zero_padding2d_9[0][0]           \n",
      "__________________________________________________________________________________________________\n",
      "stage2_unit1_sc (Conv2D)        (None, 64, 64, 128)  8192        stage2_unit1_relu1[0][0]         \n",
      "__________________________________________________________________________________________________\n",
      "add_3 (Add)                     (None, 64, 64, 128)  0           stage2_unit1_conv2[0][0]         \n",
      "                                                                 stage2_unit1_sc[0][0]            \n",
      "__________________________________________________________________________________________________\n",
      "stage2_unit2_bn1 (BatchNormaliz (None, 64, 64, 128)  512         add_3[0][0]                      \n",
      "__________________________________________________________________________________________________\n",
      "stage2_unit2_relu1 (Activation) (None, 64, 64, 128)  0           stage2_unit2_bn1[0][0]           \n",
      "__________________________________________________________________________________________________\n",
      "zero_padding2d_10 (ZeroPadding2 (None, 66, 66, 128)  0           stage2_unit2_relu1[0][0]         \n",
      "__________________________________________________________________________________________________\n",
      "stage2_unit2_conv1 (Conv2D)     (None, 64, 64, 128)  147456      zero_padding2d_10[0][0]          \n",
      "__________________________________________________________________________________________________\n",
      "stage2_unit2_bn2 (BatchNormaliz (None, 64, 64, 128)  512         stage2_unit2_conv1[0][0]         \n",
      "__________________________________________________________________________________________________\n",
      "stage2_unit2_relu2 (Activation) (None, 64, 64, 128)  0           stage2_unit2_bn2[0][0]           \n",
      "__________________________________________________________________________________________________\n",
      "zero_padding2d_11 (ZeroPadding2 (None, 66, 66, 128)  0           stage2_unit2_relu2[0][0]         \n",
      "__________________________________________________________________________________________________\n",
      "stage2_unit2_conv2 (Conv2D)     (None, 64, 64, 128)  147456      zero_padding2d_11[0][0]          \n",
      "__________________________________________________________________________________________________\n",
      "add_4 (Add)                     (None, 64, 64, 128)  0           stage2_unit2_conv2[0][0]         \n",
      "                                                                 add_3[0][0]                      \n",
      "__________________________________________________________________________________________________\n",
      "stage2_unit3_bn1 (BatchNormaliz (None, 64, 64, 128)  512         add_4[0][0]                      \n",
      "__________________________________________________________________________________________________\n",
      "stage2_unit3_relu1 (Activation) (None, 64, 64, 128)  0           stage2_unit3_bn1[0][0]           \n",
      "__________________________________________________________________________________________________\n",
      "zero_padding2d_12 (ZeroPadding2 (None, 66, 66, 128)  0           stage2_unit3_relu1[0][0]         \n",
      "__________________________________________________________________________________________________\n",
      "stage2_unit3_conv1 (Conv2D)     (None, 64, 64, 128)  147456      zero_padding2d_12[0][0]          \n",
      "__________________________________________________________________________________________________\n",
      "stage2_unit3_bn2 (BatchNormaliz (None, 64, 64, 128)  512         stage2_unit3_conv1[0][0]         \n",
      "__________________________________________________________________________________________________\n",
      "stage2_unit3_relu2 (Activation) (None, 64, 64, 128)  0           stage2_unit3_bn2[0][0]           \n",
      "__________________________________________________________________________________________________\n",
      "zero_padding2d_13 (ZeroPadding2 (None, 66, 66, 128)  0           stage2_unit3_relu2[0][0]         \n",
      "__________________________________________________________________________________________________\n",
      "stage2_unit3_conv2 (Conv2D)     (None, 64, 64, 128)  147456      zero_padding2d_13[0][0]          \n",
      "__________________________________________________________________________________________________\n",
      "add_5 (Add)                     (None, 64, 64, 128)  0           stage2_unit3_conv2[0][0]         \n",
      "                                                                 add_4[0][0]                      \n",
      "__________________________________________________________________________________________________\n",
      "stage2_unit4_bn1 (BatchNormaliz (None, 64, 64, 128)  512         add_5[0][0]                      \n",
      "__________________________________________________________________________________________________\n",
      "stage2_unit4_relu1 (Activation) (None, 64, 64, 128)  0           stage2_unit4_bn1[0][0]           \n",
      "__________________________________________________________________________________________________\n",
      "zero_padding2d_14 (ZeroPadding2 (None, 66, 66, 128)  0           stage2_unit4_relu1[0][0]         \n",
      "__________________________________________________________________________________________________\n",
      "stage2_unit4_conv1 (Conv2D)     (None, 64, 64, 128)  147456      zero_padding2d_14[0][0]          \n",
      "__________________________________________________________________________________________________\n",
      "stage2_unit4_bn2 (BatchNormaliz (None, 64, 64, 128)  512         stage2_unit4_conv1[0][0]         \n",
      "__________________________________________________________________________________________________\n",
      "stage2_unit4_relu2 (Activation) (None, 64, 64, 128)  0           stage2_unit4_bn2[0][0]           \n",
      "__________________________________________________________________________________________________\n",
      "zero_padding2d_15 (ZeroPadding2 (None, 66, 66, 128)  0           stage2_unit4_relu2[0][0]         \n",
      "__________________________________________________________________________________________________\n",
      "stage2_unit4_conv2 (Conv2D)     (None, 64, 64, 128)  147456      zero_padding2d_15[0][0]          \n",
      "__________________________________________________________________________________________________\n",
      "add_6 (Add)                     (None, 64, 64, 128)  0           stage2_unit4_conv2[0][0]         \n",
      "                                                                 add_5[0][0]                      \n",
      "__________________________________________________________________________________________________\n",
      "stage3_unit1_bn1 (BatchNormaliz (None, 64, 64, 128)  512         add_6[0][0]                      \n",
      "__________________________________________________________________________________________________\n",
      "stage3_unit1_relu1 (Activation) (None, 64, 64, 128)  0           stage3_unit1_bn1[0][0]           \n",
      "__________________________________________________________________________________________________\n",
      "zero_padding2d_16 (ZeroPadding2 (None, 66, 66, 128)  0           stage3_unit1_relu1[0][0]         \n",
      "__________________________________________________________________________________________________\n",
      "stage3_unit1_conv1 (Conv2D)     (None, 32, 32, 256)  294912      zero_padding2d_16[0][0]          \n",
      "__________________________________________________________________________________________________\n",
      "stage3_unit1_bn2 (BatchNormaliz (None, 32, 32, 256)  1024        stage3_unit1_conv1[0][0]         \n",
      "__________________________________________________________________________________________________\n",
      "stage3_unit1_relu2 (Activation) (None, 32, 32, 256)  0           stage3_unit1_bn2[0][0]           \n",
      "__________________________________________________________________________________________________\n",
      "zero_padding2d_17 (ZeroPadding2 (None, 34, 34, 256)  0           stage3_unit1_relu2[0][0]         \n",
      "__________________________________________________________________________________________________\n",
      "stage3_unit1_conv2 (Conv2D)     (None, 32, 32, 256)  589824      zero_padding2d_17[0][0]          \n",
      "__________________________________________________________________________________________________\n",
      "stage3_unit1_sc (Conv2D)        (None, 32, 32, 256)  32768       stage3_unit1_relu1[0][0]         \n",
      "__________________________________________________________________________________________________\n",
      "add_7 (Add)                     (None, 32, 32, 256)  0           stage3_unit1_conv2[0][0]         \n",
      "                                                                 stage3_unit1_sc[0][0]            \n",
      "__________________________________________________________________________________________________\n",
      "stage3_unit2_bn1 (BatchNormaliz (None, 32, 32, 256)  1024        add_7[0][0]                      \n",
      "__________________________________________________________________________________________________\n",
      "stage3_unit2_relu1 (Activation) (None, 32, 32, 256)  0           stage3_unit2_bn1[0][0]           \n",
      "__________________________________________________________________________________________________\n",
      "zero_padding2d_18 (ZeroPadding2 (None, 34, 34, 256)  0           stage3_unit2_relu1[0][0]         \n",
      "__________________________________________________________________________________________________\n",
      "stage3_unit2_conv1 (Conv2D)     (None, 32, 32, 256)  589824      zero_padding2d_18[0][0]          \n",
      "__________________________________________________________________________________________________\n",
      "stage3_unit2_bn2 (BatchNormaliz (None, 32, 32, 256)  1024        stage3_unit2_conv1[0][0]         \n",
      "__________________________________________________________________________________________________\n",
      "stage3_unit2_relu2 (Activation) (None, 32, 32, 256)  0           stage3_unit2_bn2[0][0]           \n",
      "__________________________________________________________________________________________________\n",
      "zero_padding2d_19 (ZeroPadding2 (None, 34, 34, 256)  0           stage3_unit2_relu2[0][0]         \n",
      "__________________________________________________________________________________________________\n",
      "stage3_unit2_conv2 (Conv2D)     (None, 32, 32, 256)  589824      zero_padding2d_19[0][0]          \n",
      "__________________________________________________________________________________________________\n",
      "add_8 (Add)                     (None, 32, 32, 256)  0           stage3_unit2_conv2[0][0]         \n",
      "                                                                 add_7[0][0]                      \n",
      "__________________________________________________________________________________________________\n",
      "stage3_unit3_bn1 (BatchNormaliz (None, 32, 32, 256)  1024        add_8[0][0]                      \n",
      "__________________________________________________________________________________________________\n",
      "stage3_unit3_relu1 (Activation) (None, 32, 32, 256)  0           stage3_unit3_bn1[0][0]           \n",
      "__________________________________________________________________________________________________\n",
      "zero_padding2d_20 (ZeroPadding2 (None, 34, 34, 256)  0           stage3_unit3_relu1[0][0]         \n",
      "__________________________________________________________________________________________________\n",
      "stage3_unit3_conv1 (Conv2D)     (None, 32, 32, 256)  589824      zero_padding2d_20[0][0]          \n",
      "__________________________________________________________________________________________________\n",
      "stage3_unit3_bn2 (BatchNormaliz (None, 32, 32, 256)  1024        stage3_unit3_conv1[0][0]         \n",
      "__________________________________________________________________________________________________\n",
      "stage3_unit3_relu2 (Activation) (None, 32, 32, 256)  0           stage3_unit3_bn2[0][0]           \n",
      "__________________________________________________________________________________________________\n",
      "zero_padding2d_21 (ZeroPadding2 (None, 34, 34, 256)  0           stage3_unit3_relu2[0][0]         \n",
      "__________________________________________________________________________________________________\n",
      "stage3_unit3_conv2 (Conv2D)     (None, 32, 32, 256)  589824      zero_padding2d_21[0][0]          \n",
      "__________________________________________________________________________________________________\n",
      "add_9 (Add)                     (None, 32, 32, 256)  0           stage3_unit3_conv2[0][0]         \n",
      "                                                                 add_8[0][0]                      \n",
      "__________________________________________________________________________________________________\n",
      "stage3_unit4_bn1 (BatchNormaliz (None, 32, 32, 256)  1024        add_9[0][0]                      \n",
      "__________________________________________________________________________________________________\n",
      "stage3_unit4_relu1 (Activation) (None, 32, 32, 256)  0           stage3_unit4_bn1[0][0]           \n",
      "__________________________________________________________________________________________________\n",
      "zero_padding2d_22 (ZeroPadding2 (None, 34, 34, 256)  0           stage3_unit4_relu1[0][0]         \n",
      "__________________________________________________________________________________________________\n",
      "stage3_unit4_conv1 (Conv2D)     (None, 32, 32, 256)  589824      zero_padding2d_22[0][0]          \n",
      "__________________________________________________________________________________________________\n",
      "stage3_unit4_bn2 (BatchNormaliz (None, 32, 32, 256)  1024        stage3_unit4_conv1[0][0]         \n",
      "__________________________________________________________________________________________________\n",
      "stage3_unit4_relu2 (Activation) (None, 32, 32, 256)  0           stage3_unit4_bn2[0][0]           \n",
      "__________________________________________________________________________________________________\n",
      "zero_padding2d_23 (ZeroPadding2 (None, 34, 34, 256)  0           stage3_unit4_relu2[0][0]         \n",
      "__________________________________________________________________________________________________\n",
      "stage3_unit4_conv2 (Conv2D)     (None, 32, 32, 256)  589824      zero_padding2d_23[0][0]          \n",
      "__________________________________________________________________________________________________\n",
      "add_10 (Add)                    (None, 32, 32, 256)  0           stage3_unit4_conv2[0][0]         \n",
      "                                                                 add_9[0][0]                      \n",
      "__________________________________________________________________________________________________\n",
      "stage3_unit5_bn1 (BatchNormaliz (None, 32, 32, 256)  1024        add_10[0][0]                     \n",
      "__________________________________________________________________________________________________\n",
      "stage3_unit5_relu1 (Activation) (None, 32, 32, 256)  0           stage3_unit5_bn1[0][0]           \n",
      "__________________________________________________________________________________________________\n",
      "zero_padding2d_24 (ZeroPadding2 (None, 34, 34, 256)  0           stage3_unit5_relu1[0][0]         \n",
      "__________________________________________________________________________________________________\n",
      "stage3_unit5_conv1 (Conv2D)     (None, 32, 32, 256)  589824      zero_padding2d_24[0][0]          \n",
      "__________________________________________________________________________________________________\n",
      "stage3_unit5_bn2 (BatchNormaliz (None, 32, 32, 256)  1024        stage3_unit5_conv1[0][0]         \n",
      "__________________________________________________________________________________________________\n",
      "stage3_unit5_relu2 (Activation) (None, 32, 32, 256)  0           stage3_unit5_bn2[0][0]           \n",
      "__________________________________________________________________________________________________\n",
      "zero_padding2d_25 (ZeroPadding2 (None, 34, 34, 256)  0           stage3_unit5_relu2[0][0]         \n",
      "__________________________________________________________________________________________________\n",
      "stage3_unit5_conv2 (Conv2D)     (None, 32, 32, 256)  589824      zero_padding2d_25[0][0]          \n",
      "__________________________________________________________________________________________________\n",
      "add_11 (Add)                    (None, 32, 32, 256)  0           stage3_unit5_conv2[0][0]         \n",
      "                                                                 add_10[0][0]                     \n",
      "__________________________________________________________________________________________________\n",
      "stage3_unit6_bn1 (BatchNormaliz (None, 32, 32, 256)  1024        add_11[0][0]                     \n",
      "__________________________________________________________________________________________________\n",
      "stage3_unit6_relu1 (Activation) (None, 32, 32, 256)  0           stage3_unit6_bn1[0][0]           \n",
      "__________________________________________________________________________________________________\n",
      "zero_padding2d_26 (ZeroPadding2 (None, 34, 34, 256)  0           stage3_unit6_relu1[0][0]         \n",
      "__________________________________________________________________________________________________\n",
      "stage3_unit6_conv1 (Conv2D)     (None, 32, 32, 256)  589824      zero_padding2d_26[0][0]          \n",
      "__________________________________________________________________________________________________\n",
      "stage3_unit6_bn2 (BatchNormaliz (None, 32, 32, 256)  1024        stage3_unit6_conv1[0][0]         \n",
      "__________________________________________________________________________________________________\n",
      "stage3_unit6_relu2 (Activation) (None, 32, 32, 256)  0           stage3_unit6_bn2[0][0]           \n",
      "__________________________________________________________________________________________________\n",
      "zero_padding2d_27 (ZeroPadding2 (None, 34, 34, 256)  0           stage3_unit6_relu2[0][0]         \n",
      "__________________________________________________________________________________________________\n",
      "stage3_unit6_conv2 (Conv2D)     (None, 32, 32, 256)  589824      zero_padding2d_27[0][0]          \n",
      "__________________________________________________________________________________________________\n",
      "add_12 (Add)                    (None, 32, 32, 256)  0           stage3_unit6_conv2[0][0]         \n",
      "                                                                 add_11[0][0]                     \n",
      "__________________________________________________________________________________________________\n",
      "stage4_unit1_bn1 (BatchNormaliz (None, 32, 32, 256)  1024        add_12[0][0]                     \n",
      "__________________________________________________________________________________________________\n",
      "stage4_unit1_relu1 (Activation) (None, 32, 32, 256)  0           stage4_unit1_bn1[0][0]           \n",
      "__________________________________________________________________________________________________\n",
      "zero_padding2d_28 (ZeroPadding2 (None, 34, 34, 256)  0           stage4_unit1_relu1[0][0]         \n",
      "__________________________________________________________________________________________________\n",
      "stage4_unit1_conv1 (Conv2D)     (None, 16, 16, 512)  1179648     zero_padding2d_28[0][0]          \n",
      "__________________________________________________________________________________________________\n",
      "stage4_unit1_bn2 (BatchNormaliz (None, 16, 16, 512)  2048        stage4_unit1_conv1[0][0]         \n",
      "__________________________________________________________________________________________________\n",
      "stage4_unit1_relu2 (Activation) (None, 16, 16, 512)  0           stage4_unit1_bn2[0][0]           \n",
      "__________________________________________________________________________________________________\n",
      "zero_padding2d_29 (ZeroPadding2 (None, 18, 18, 512)  0           stage4_unit1_relu2[0][0]         \n",
      "__________________________________________________________________________________________________\n",
      "stage4_unit1_conv2 (Conv2D)     (None, 16, 16, 512)  2359296     zero_padding2d_29[0][0]          \n",
      "__________________________________________________________________________________________________\n",
      "stage4_unit1_sc (Conv2D)        (None, 16, 16, 512)  131072      stage4_unit1_relu1[0][0]         \n",
      "__________________________________________________________________________________________________\n",
      "add_13 (Add)                    (None, 16, 16, 512)  0           stage4_unit1_conv2[0][0]         \n",
      "                                                                 stage4_unit1_sc[0][0]            \n",
      "__________________________________________________________________________________________________\n",
      "stage4_unit2_bn1 (BatchNormaliz (None, 16, 16, 512)  2048        add_13[0][0]                     \n",
      "__________________________________________________________________________________________________\n",
      "stage4_unit2_relu1 (Activation) (None, 16, 16, 512)  0           stage4_unit2_bn1[0][0]           \n",
      "__________________________________________________________________________________________________\n",
      "zero_padding2d_30 (ZeroPadding2 (None, 18, 18, 512)  0           stage4_unit2_relu1[0][0]         \n",
      "__________________________________________________________________________________________________\n",
      "stage4_unit2_conv1 (Conv2D)     (None, 16, 16, 512)  2359296     zero_padding2d_30[0][0]          \n",
      "__________________________________________________________________________________________________\n",
      "stage4_unit2_bn2 (BatchNormaliz (None, 16, 16, 512)  2048        stage4_unit2_conv1[0][0]         \n",
      "__________________________________________________________________________________________________\n",
      "stage4_unit2_relu2 (Activation) (None, 16, 16, 512)  0           stage4_unit2_bn2[0][0]           \n",
      "__________________________________________________________________________________________________\n",
      "zero_padding2d_31 (ZeroPadding2 (None, 18, 18, 512)  0           stage4_unit2_relu2[0][0]         \n",
      "__________________________________________________________________________________________________\n",
      "stage4_unit2_conv2 (Conv2D)     (None, 16, 16, 512)  2359296     zero_padding2d_31[0][0]          \n",
      "__________________________________________________________________________________________________\n",
      "add_14 (Add)                    (None, 16, 16, 512)  0           stage4_unit2_conv2[0][0]         \n",
      "                                                                 add_13[0][0]                     \n",
      "__________________________________________________________________________________________________\n",
      "stage4_unit3_bn1 (BatchNormaliz (None, 16, 16, 512)  2048        add_14[0][0]                     \n",
      "__________________________________________________________________________________________________\n",
      "stage4_unit3_relu1 (Activation) (None, 16, 16, 512)  0           stage4_unit3_bn1[0][0]           \n",
      "__________________________________________________________________________________________________\n",
      "zero_padding2d_32 (ZeroPadding2 (None, 18, 18, 512)  0           stage4_unit3_relu1[0][0]         \n",
      "__________________________________________________________________________________________________\n",
      "stage4_unit3_conv1 (Conv2D)     (None, 16, 16, 512)  2359296     zero_padding2d_32[0][0]          \n",
      "__________________________________________________________________________________________________\n",
      "stage4_unit3_bn2 (BatchNormaliz (None, 16, 16, 512)  2048        stage4_unit3_conv1[0][0]         \n",
      "__________________________________________________________________________________________________\n",
      "stage4_unit3_relu2 (Activation) (None, 16, 16, 512)  0           stage4_unit3_bn2[0][0]           \n",
      "__________________________________________________________________________________________________\n",
      "zero_padding2d_33 (ZeroPadding2 (None, 18, 18, 512)  0           stage4_unit3_relu2[0][0]         \n",
      "__________________________________________________________________________________________________\n",
      "stage4_unit3_conv2 (Conv2D)     (None, 16, 16, 512)  2359296     zero_padding2d_33[0][0]          \n",
      "__________________________________________________________________________________________________\n",
      "add_15 (Add)                    (None, 16, 16, 512)  0           stage4_unit3_conv2[0][0]         \n",
      "                                                                 add_14[0][0]                     \n",
      "__________________________________________________________________________________________________\n",
      "bn1 (BatchNormalization)        (None, 16, 16, 512)  2048        add_15[0][0]                     \n",
      "__________________________________________________________________________________________________\n",
      "relu1 (Activation)              (None, 16, 16, 512)  0           bn1[0][0]                        \n",
      "__________________________________________________________________________________________________\n",
      "decoder_stage0_upsampling (UpSa (None, 32, 32, 512)  0           relu1[0][0]                      \n",
      "__________________________________________________________________________________________________\n",
      "decoder_stage0_concat (Concaten (None, 32, 32, 768)  0           decoder_stage0_upsampling[0][0]  \n",
      "                                                                 stage4_unit1_relu1[0][0]         \n",
      "__________________________________________________________________________________________________\n",
      "decoder_stage0a_conv (Conv2D)   (None, 32, 32, 256)  1769472     decoder_stage0_concat[0][0]      \n",
      "__________________________________________________________________________________________________\n",
      "decoder_stage0a_bn (BatchNormal (None, 32, 32, 256)  1024        decoder_stage0a_conv[0][0]       \n",
      "__________________________________________________________________________________________________\n",
      "decoder_stage0a_relu (Activatio (None, 32, 32, 256)  0           decoder_stage0a_bn[0][0]         \n",
      "__________________________________________________________________________________________________\n",
      "decoder_stage0b_conv (Conv2D)   (None, 32, 32, 256)  589824      decoder_stage0a_relu[0][0]       \n",
      "__________________________________________________________________________________________________\n",
      "decoder_stage0b_bn (BatchNormal (None, 32, 32, 256)  1024        decoder_stage0b_conv[0][0]       \n",
      "__________________________________________________________________________________________________\n",
      "decoder_stage0b_relu (Activatio (None, 32, 32, 256)  0           decoder_stage0b_bn[0][0]         \n",
      "__________________________________________________________________________________________________\n",
      "decoder_stage1_upsampling (UpSa (None, 64, 64, 256)  0           decoder_stage0b_relu[0][0]       \n",
      "__________________________________________________________________________________________________\n",
      "decoder_stage1_concat (Concaten (None, 64, 64, 384)  0           decoder_stage1_upsampling[0][0]  \n",
      "                                                                 stage3_unit1_relu1[0][0]         \n",
      "__________________________________________________________________________________________________\n",
      "decoder_stage1a_conv (Conv2D)   (None, 64, 64, 128)  442368      decoder_stage1_concat[0][0]      \n",
      "__________________________________________________________________________________________________\n",
      "decoder_stage1a_bn (BatchNormal (None, 64, 64, 128)  512         decoder_stage1a_conv[0][0]       \n",
      "__________________________________________________________________________________________________\n",
      "decoder_stage1a_relu (Activatio (None, 64, 64, 128)  0           decoder_stage1a_bn[0][0]         \n",
      "__________________________________________________________________________________________________\n",
      "decoder_stage1b_conv (Conv2D)   (None, 64, 64, 128)  147456      decoder_stage1a_relu[0][0]       \n",
      "__________________________________________________________________________________________________\n",
      "decoder_stage1b_bn (BatchNormal (None, 64, 64, 128)  512         decoder_stage1b_conv[0][0]       \n",
      "__________________________________________________________________________________________________\n",
      "decoder_stage1b_relu (Activatio (None, 64, 64, 128)  0           decoder_stage1b_bn[0][0]         \n",
      "__________________________________________________________________________________________________\n",
      "decoder_stage2_upsampling (UpSa (None, 128, 128, 128 0           decoder_stage1b_relu[0][0]       \n",
      "__________________________________________________________________________________________________\n",
      "decoder_stage2_concat (Concaten (None, 128, 128, 192 0           decoder_stage2_upsampling[0][0]  \n",
      "                                                                 stage2_unit1_relu1[0][0]         \n",
      "__________________________________________________________________________________________________\n",
      "decoder_stage2a_conv (Conv2D)   (None, 128, 128, 64) 110592      decoder_stage2_concat[0][0]      \n",
      "__________________________________________________________________________________________________\n",
      "decoder_stage2a_bn (BatchNormal (None, 128, 128, 64) 256         decoder_stage2a_conv[0][0]       \n",
      "__________________________________________________________________________________________________\n",
      "decoder_stage2a_relu (Activatio (None, 128, 128, 64) 0           decoder_stage2a_bn[0][0]         \n",
      "__________________________________________________________________________________________________\n",
      "decoder_stage2b_conv (Conv2D)   (None, 128, 128, 64) 36864       decoder_stage2a_relu[0][0]       \n",
      "__________________________________________________________________________________________________\n",
      "decoder_stage2b_bn (BatchNormal (None, 128, 128, 64) 256         decoder_stage2b_conv[0][0]       \n",
      "__________________________________________________________________________________________________\n",
      "decoder_stage2b_relu (Activatio (None, 128, 128, 64) 0           decoder_stage2b_bn[0][0]         \n",
      "__________________________________________________________________________________________________\n",
      "decoder_stage3_upsampling (UpSa (None, 256, 256, 64) 0           decoder_stage2b_relu[0][0]       \n",
      "__________________________________________________________________________________________________\n",
      "decoder_stage3_concat (Concaten (None, 256, 256, 128 0           decoder_stage3_upsampling[0][0]  \n",
      "                                                                 relu0[0][0]                      \n",
      "__________________________________________________________________________________________________\n",
      "decoder_stage3a_conv (Conv2D)   (None, 256, 256, 32) 36864       decoder_stage3_concat[0][0]      \n",
      "__________________________________________________________________________________________________\n",
      "decoder_stage3a_bn (BatchNormal (None, 256, 256, 32) 128         decoder_stage3a_conv[0][0]       \n",
      "__________________________________________________________________________________________________\n",
      "decoder_stage3a_relu (Activatio (None, 256, 256, 32) 0           decoder_stage3a_bn[0][0]         \n",
      "__________________________________________________________________________________________________\n",
      "decoder_stage3b_conv (Conv2D)   (None, 256, 256, 32) 9216        decoder_stage3a_relu[0][0]       \n",
      "__________________________________________________________________________________________________\n",
      "decoder_stage3b_bn (BatchNormal (None, 256, 256, 32) 128         decoder_stage3b_conv[0][0]       \n",
      "__________________________________________________________________________________________________\n",
      "decoder_stage3b_relu (Activatio (None, 256, 256, 32) 0           decoder_stage3b_bn[0][0]         \n",
      "__________________________________________________________________________________________________\n",
      "decoder_stage4_upsampling (UpSa (None, 512, 512, 32) 0           decoder_stage3b_relu[0][0]       \n",
      "__________________________________________________________________________________________________\n",
      "decoder_stage4a_conv (Conv2D)   (None, 512, 512, 16) 4608        decoder_stage4_upsampling[0][0]  \n",
      "__________________________________________________________________________________________________\n",
      "decoder_stage4a_bn (BatchNormal (None, 512, 512, 16) 64          decoder_stage4a_conv[0][0]       \n",
      "__________________________________________________________________________________________________\n",
      "decoder_stage4a_relu (Activatio (None, 512, 512, 16) 0           decoder_stage4a_bn[0][0]         \n",
      "__________________________________________________________________________________________________\n",
      "decoder_stage4b_conv (Conv2D)   (None, 512, 512, 16) 2304        decoder_stage4a_relu[0][0]       \n",
      "__________________________________________________________________________________________________\n",
      "decoder_stage4b_bn (BatchNormal (None, 512, 512, 16) 64          decoder_stage4b_conv[0][0]       \n",
      "__________________________________________________________________________________________________\n",
      "decoder_stage4b_relu (Activatio (None, 512, 512, 16) 0           decoder_stage4b_bn[0][0]         \n",
      "__________________________________________________________________________________________________\n",
      "final_conv (Conv2D)             (None, 512, 512, 21) 3045        decoder_stage4b_relu[0][0]       \n",
      "__________________________________________________________________________________________________\n",
      "softmax (Activation)            (None, 512, 512, 21) 0           final_conv[0][0]                 \n",
      "==================================================================================================\n",
      "Total params: 24,459,054\n",
      "Trainable params: 3,169,960\n",
      "Non-trainable params: 21,289,094\n",
      "__________________________________________________________________________________________________\n"
     ]
    }
   ],
   "source": [
    "model.summary()"
   ]
  },
  {
   "cell_type": "code",
   "execution_count": null,
   "metadata": {
    "id": "uabbon8ogxMN"
   },
   "outputs": [],
   "source": [
    "import imgaug.augmenters as iaa\n",
    "# For the assignment choose any 4 augumentation techniques\n",
    "# check the imgaug documentations for more augmentations\n",
    "aug2 = iaa.Fliplr(1)\n",
    "aug3 = iaa.Flipud(1)\n",
    "aug4 = iaa.Emboss(alpha=(1), strength=1)\n",
    "aug5 = iaa.DirectedEdgeDetect(alpha=(0.8), direction=(1.0))\n",
    "aug6 = iaa.Sharpen(alpha=(1.0), lightness=(1.5))"
   ]
  },
  {
   "cell_type": "code",
   "execution_count": null,
   "metadata": {
    "id": "ynBz6NehsCVB"
   },
   "outputs": [],
   "source": [
    "class Dataset:\n",
    "    def __init__(self, file_names, classes , types):\n",
    "        \n",
    "        self.ids = file_names\n",
    "        self.class_ids = classes\n",
    "        self.types = types\n",
    "        self.images_fps   = [image_id[0] for image_id in self.ids]\n",
    "        self.masks_fps    = [image_id[1] for image_id in self.ids]\n",
    "       \n",
    "\n",
    "    \n",
    "    def __getitem__(self, i):\n",
    "        \n",
    "        # read data\n",
    "        image = cv2.imread(self.images_fps[i], cv2.IMREAD_UNCHANGED)\n",
    "        image = np.float32(cv2.resize(image, (512, 512)))\n",
    "\n",
    "        mask  = cv2.imread(self.masks_fps[i], cv2.IMREAD_UNCHANGED)\n",
    "        image_mask = mask\n",
    "   \n",
    "\n",
    "        image_masks = [(image_mask == i) for i  in self.class_ids]\n",
    "        image_mask = np.stack(image_masks, axis=-1).astype('float')\n",
    "        image_mask = np.float32(cv2.resize(image_mask, (512, 512)))\n",
    "        \n",
    "\n",
    "        if self.types == 'train':\n",
    "          a = np.random.uniform()\n",
    "          if a<0.2:\n",
    "            image = aug2.augment_image(image)\n",
    "            image_mask = aug2.augment_image(image_mask)\n",
    "          elif a<0.4:\n",
    "            image = aug3.augment_image(image)\n",
    "            image_mask = aug3.augment_image(image_mask)\n",
    "          elif a<0.6:\n",
    "            image = aug4.augment_image(image)\n",
    "            image_mask = aug4.augment_image(image_mask)\n",
    "          elif a<0.8:\n",
    "            image = aug5.augment_image(image)\n",
    "            image_mask = image_mask\n",
    "          else:\n",
    "            image = aug6.augment_image(image)\n",
    "            image_mask = aug6.augment_image(image_mask)\n",
    "\n",
    "            \n",
    "          return image, image_mask\n",
    "\n",
    "        else:\n",
    "          \n",
    "          return image, image_mask\n",
    "\n",
    "        \n",
    "    def __len__(self):\n",
    "        return len(self.ids)\n",
    "    \n",
    "    \n",
    "class Dataloder(tf.keras.utils.Sequence):    \n",
    "    def __init__(self, dataset, batch_size=1, shuffle=False):\n",
    "        self.dataset = dataset\n",
    "        self.batch_size = batch_size\n",
    "        self.shuffle = shuffle\n",
    "        self.indexes = np.arange(len(dataset))\n",
    "\n",
    "    def __getitem__(self, i):\n",
    "        \n",
    "        # collect batch data\n",
    "        start = i * self.batch_size\n",
    "        stop = (i + 1) * self.batch_size\n",
    "        data = []\n",
    "        for j in range(start, stop):\n",
    "            data.append(self.dataset[j])\n",
    "        \n",
    "        batch = [np.stack(samples, axis=0) for samples in zip(*data)]\n",
    "        \n",
    "        return tuple(batch)\n",
    "    \n",
    "    def __len__(self):\n",
    "        return len(self.indexes) // self.batch_size\n",
    "    \n",
    "    def on_epoch_end(self):\n",
    "        if self.shuffle:\n",
    "            self.indexes = np.random.permutation(self.indexes)"
   ]
  },
  {
   "cell_type": "code",
   "execution_count": null,
   "metadata": {
    "id": "XLNEOLmXZ4uH"
   },
   "outputs": [],
   "source": [
    "# https://github.com/qubvel/segmentation_models\n",
    "#import segmentation_models as sm\n",
    "from segmentation_models.metrics import iou_score\n",
    "\n",
    "\n",
    "\n",
    "rms = tf.keras.optimizers.RMSprop(learning_rate=0.001)\n",
    "\n",
    "focal_loss = sm.losses.cce_dice_loss\n",
    "\n",
    "model.compile(rms, focal_loss, metrics=[iou_score])"
   ]
  },
  {
   "cell_type": "code",
   "execution_count": null,
   "metadata": {
    "colab": {
     "base_uri": "https://localhost:8080/"
    },
    "id": "dXBB1tzQBxvF",
    "outputId": "f77c836a-d16e-4c80-c4c6-22593f30694f"
   },
   "outputs": [
    {
     "name": "stdout",
     "output_type": "stream",
     "text": [
      "(5, 512, 512, 3)\n"
     ]
    }
   ],
   "source": [
    "#CLASSES = CLASSES\n",
    "train_dataset = Dataset(X_train, classes=class_label , types ='train')\n",
    "test_dataset  = Dataset(X_test, classes=class_label, types = 'test')\n",
    "\n",
    "train_dataloader = Dataloder(train_dataset, batch_size=5, shuffle=True)\n",
    "test_dataloader = Dataloder(test_dataset, batch_size=5, shuffle=True)\n",
    "\n",
    "print(train_dataloader[0][0].shape)\n",
    "assert train_dataloader[0][0].shape == (5, 512, 512, 3)\n",
    "assert train_dataloader[0][1].shape == (5, 512, 512, 21)"
   ]
  },
  {
   "cell_type": "code",
   "execution_count": null,
   "metadata": {
    "colab": {
     "base_uri": "https://localhost:8080/"
    },
    "id": "bHov_EW0Nm5K",
    "outputId": "47bd00d5-9de7-4ca4-ac08-f83598b82103"
   },
   "outputs": [
    {
     "data": {
      "text/plain": [
       "((5, 512, 512, 3), (5, 512, 512, 21))"
      ]
     },
     "execution_count": 25,
     "metadata": {
      "tags": []
     },
     "output_type": "execute_result"
    }
   ],
   "source": [
    "(train_dataloader[0][0].shape) , (train_dataloader[0][1].shape)"
   ]
  },
  {
   "cell_type": "code",
   "execution_count": null,
   "metadata": {
    "colab": {
     "base_uri": "https://localhost:8080/"
    },
    "id": "TXw_eWgVBfNS",
    "outputId": "fa97c056-6ff5-4786-faff-a7a341bebe25"
   },
   "outputs": [
    {
     "data": {
      "text/plain": [
       "((5, 512, 512, 3), (5, 512, 512, 21))"
      ]
     },
     "execution_count": 26,
     "metadata": {
      "tags": []
     },
     "output_type": "execute_result"
    }
   ],
   "source": [
    "(test_dataloader[0][0].shape) , (test_dataloader[0][1].shape)"
   ]
  },
  {
   "cell_type": "code",
   "execution_count": null,
   "metadata": {
    "id": "CBiu4be8ZKOv"
   },
   "outputs": [],
   "source": [
    "callbacks_ = [\n",
    "    tf.keras.callbacks.ModelCheckpoint('./best_model.h5', save_weights_only=True, save_best_only=True, \\\n",
    "                                       mode='min', monitor='val_iou_score')]"
   ]
  },
  {
   "cell_type": "code",
   "execution_count": null,
   "metadata": {
    "colab": {
     "base_uri": "https://localhost:8080/"
    },
    "id": "1ViPRmkiOQSJ",
    "outputId": "14b7dad3-2f0f-41b9-8d2f-498a089fdd60"
   },
   "outputs": [
    {
     "name": "stdout",
     "output_type": "stream",
     "text": [
      "Epoch 1/70\n",
      "136/136 [==============================] - 1277s 9s/step - loss: 0.9502 - iou_score: 0.0928 - val_loss: 1.0563 - val_iou_score: 0.0939\n",
      "Epoch 2/70\n",
      "136/136 [==============================] - 713s 5s/step - loss: 0.8116 - iou_score: 0.1841 - val_loss: 0.8965 - val_iou_score: 0.1386\n",
      "Epoch 3/70\n",
      "136/136 [==============================] - 625s 5s/step - loss: 0.7488 - iou_score: 0.2300 - val_loss: 0.8317 - val_iou_score: 0.1837\n",
      "Epoch 4/70\n",
      "136/136 [==============================] - 608s 4s/step - loss: 0.7204 - iou_score: 0.2569 - val_loss: 0.7799 - val_iou_score: 0.2259\n",
      "Epoch 5/70\n",
      "136/136 [==============================] - 568s 4s/step - loss: 0.6035 - iou_score: 0.3684 - val_loss: 0.5956 - val_iou_score: 0.3743\n",
      "Epoch 6/70\n",
      "136/136 [==============================] - 568s 4s/step - loss: 0.5926 - iou_score: 0.3792 - val_loss: 0.5894 - val_iou_score: 0.3812\n",
      "Epoch 7/70\n",
      "136/136 [==============================] - 517s 4s/step - loss: 0.5836 - iou_score: 0.3844 - val_loss: 0.5485 - val_iou_score: 0.4148\n",
      "Epoch 8/70\n",
      "136/136 [==============================] - 496s 4s/step - loss: 0.5613 - iou_score: 0.4018 - val_loss: 0.5574 - val_iou_score: 0.4091\n",
      "Epoch 9/70\n",
      "136/136 [==============================] - 483s 4s/step - loss: 0.5534 - iou_score: 0.4059 - val_loss: 0.5678 - val_iou_score: 0.4012\n",
      "Epoch 10/70\n",
      "136/136 [==============================] - 465s 3s/step - loss: 0.5456 - iou_score: 0.4156 - val_loss: 0.6066 - val_iou_score: 0.3757\n",
      "Epoch 11/70\n",
      "136/136 [==============================] - 463s 3s/step - loss: 0.5351 - iou_score: 0.4220 - val_loss: 0.6443 - val_iou_score: 0.3549\n",
      "Epoch 12/70\n",
      "136/136 [==============================] - 457s 3s/step - loss: 0.5423 - iou_score: 0.4185 - val_loss: 0.6622 - val_iou_score: 0.3486\n",
      "Epoch 13/70\n",
      "136/136 [==============================] - 451s 3s/step - loss: 0.5224 - iou_score: 0.4343 - val_loss: 0.6430 - val_iou_score: 0.3587\n",
      "Epoch 14/70\n",
      "136/136 [==============================] - 423s 3s/step - loss: 0.5178 - iou_score: 0.4357 - val_loss: 0.5280 - val_iou_score: 0.4332\n",
      "Epoch 15/70\n",
      "136/136 [==============================] - 445s 3s/step - loss: 0.5086 - iou_score: 0.4483 - val_loss: 0.5199 - val_iou_score: 0.4410\n",
      "Epoch 16/70\n",
      "136/136 [==============================] - 445s 3s/step - loss: 0.5025 - iou_score: 0.4542 - val_loss: 0.5134 - val_iou_score: 0.4429\n",
      "Epoch 17/70\n",
      "136/136 [==============================] - 425s 3s/step - loss: 0.5059 - iou_score: 0.4481 - val_loss: 0.5189 - val_iou_score: 0.4407\n",
      "Epoch 18/70\n",
      "136/136 [==============================] - 437s 3s/step - loss: 0.4964 - iou_score: 0.4582 - val_loss: 0.4921 - val_iou_score: 0.4611\n",
      "Epoch 19/70\n",
      "136/136 [==============================] - 439s 3s/step - loss: 0.4878 - iou_score: 0.4668 - val_loss: 0.5042 - val_iou_score: 0.4502\n",
      "Epoch 20/70\n",
      "136/136 [==============================] - 439s 3s/step - loss: 0.4894 - iou_score: 0.4654 - val_loss: 0.5027 - val_iou_score: 0.4566\n",
      "Epoch 21/70\n",
      "136/136 [==============================] - 420s 3s/step - loss: 0.4903 - iou_score: 0.4625 - val_loss: 0.4796 - val_iou_score: 0.4751\n",
      "Epoch 22/70\n",
      "136/136 [==============================] - 427s 3s/step - loss: 0.4886 - iou_score: 0.4629 - val_loss: 0.4836 - val_iou_score: 0.4687\n",
      "Epoch 23/70\n",
      "136/136 [==============================] - 420s 3s/step - loss: 0.4800 - iou_score: 0.4773 - val_loss: 0.5087 - val_iou_score: 0.4525\n",
      "Epoch 24/70\n",
      "136/136 [==============================] - 419s 3s/step - loss: 0.4780 - iou_score: 0.4737 - val_loss: 0.4844 - val_iou_score: 0.4690\n",
      "Epoch 25/70\n",
      "136/136 [==============================] - 414s 3s/step - loss: 0.4672 - iou_score: 0.4884 - val_loss: 0.4714 - val_iou_score: 0.4795\n",
      "Epoch 26/70\n",
      "136/136 [==============================] - 417s 3s/step - loss: 0.4820 - iou_score: 0.4684 - val_loss: 0.4769 - val_iou_score: 0.4738\n",
      "Epoch 27/70\n",
      "136/136 [==============================] - 416s 3s/step - loss: 0.4751 - iou_score: 0.4795 - val_loss: 0.4794 - val_iou_score: 0.4746\n",
      "Epoch 28/70\n",
      "136/136 [==============================] - 424s 3s/step - loss: 0.4742 - iou_score: 0.4750 - val_loss: 0.4737 - val_iou_score: 0.4790\n",
      "Epoch 29/70\n",
      "136/136 [==============================] - 418s 3s/step - loss: 0.4613 - iou_score: 0.4944 - val_loss: 0.4916 - val_iou_score: 0.4558\n",
      "Epoch 30/70\n",
      "136/136 [==============================] - 408s 3s/step - loss: 0.4720 - iou_score: 0.4816 - val_loss: 0.4839 - val_iou_score: 0.4709\n",
      "Epoch 31/70\n",
      "136/136 [==============================] - 420s 3s/step - loss: 0.4671 - iou_score: 0.4826 - val_loss: 0.4698 - val_iou_score: 0.4859\n",
      "Epoch 32/70\n",
      "136/136 [==============================] - 418s 3s/step - loss: 0.4684 - iou_score: 0.4860 - val_loss: 0.4802 - val_iou_score: 0.4761\n",
      "Epoch 33/70\n",
      "136/136 [==============================] - 416s 3s/step - loss: 0.4605 - iou_score: 0.4905 - val_loss: 0.4510 - val_iou_score: 0.5000\n",
      "Epoch 34/70\n",
      "136/136 [==============================] - 419s 3s/step - loss: 0.4560 - iou_score: 0.4965 - val_loss: 0.4570 - val_iou_score: 0.4952\n",
      "Epoch 35/70\n",
      "136/136 [==============================] - 419s 3s/step - loss: 0.4468 - iou_score: 0.5061 - val_loss: 0.4582 - val_iou_score: 0.4951\n",
      "Epoch 36/70\n",
      "136/136 [==============================] - 410s 3s/step - loss: 0.4393 - iou_score: 0.5103 - val_loss: 0.4619 - val_iou_score: 0.4904\n",
      "Epoch 37/70\n",
      "136/136 [==============================] - 419s 3s/step - loss: 0.4603 - iou_score: 0.5048 - val_loss: 0.4519 - val_iou_score: 0.5002\n",
      "Epoch 38/70\n",
      "136/136 [==============================] - 417s 3s/step - loss: 0.4509 - iou_score: 0.4996 - val_loss: 0.4512 - val_iou_score: 0.5015\n",
      "Epoch 39/70\n",
      "136/136 [==============================] - 417s 3s/step - loss: 0.4315 - iou_score: 0.5214 - val_loss: 0.4584 - val_iou_score: 0.4936\n",
      "Epoch 40/70\n",
      "136/136 [==============================] - 412s 3s/step - loss: 0.4458 - iou_score: 0.5057 - val_loss: 0.4496 - val_iou_score: 0.5037\n",
      "Epoch 41/70\n",
      "136/136 [==============================] - 416s 3s/step - loss: 0.4462 - iou_score: 0.5047 - val_loss: 0.4532 - val_iou_score: 0.4958\n",
      "Epoch 42/70\n",
      "136/136 [==============================] - 419s 3s/step - loss: 0.4463 - iou_score: 0.5069 - val_loss: 0.4479 - val_iou_score: 0.5054\n",
      "Epoch 43/70\n",
      "136/136 [==============================] - 419s 3s/step - loss: 0.4553 - iou_score: 0.4939 - val_loss: 0.4560 - val_iou_score: 0.5009\n",
      "Epoch 44/70\n",
      "136/136 [==============================] - 425s 3s/step - loss: 0.4531 - iou_score: 0.4994 - val_loss: 0.4498 - val_iou_score: 0.5012\n",
      "Epoch 45/70\n",
      "136/136 [==============================] - 433s 3s/step - loss: 0.4502 - iou_score: 0.5014 - val_loss: 0.4593 - val_iou_score: 0.4921\n",
      "Epoch 46/70\n",
      "136/136 [==============================] - 426s 3s/step - loss: 0.4427 - iou_score: 0.5099 - val_loss: 0.4439 - val_iou_score: 0.5061\n",
      "Epoch 47/70\n",
      "136/136 [==============================] - 429s 3s/step - loss: 0.4339 - iou_score: 0.5193 - val_loss: 0.4447 - val_iou_score: 0.5090\n",
      "Epoch 48/70\n",
      "136/136 [==============================] - 432s 3s/step - loss: 0.4508 - iou_score: 0.4986 - val_loss: 0.4447 - val_iou_score: 0.5061\n",
      "Epoch 49/70\n",
      "136/136 [==============================] - 426s 3s/step - loss: 0.4240 - iou_score: 0.5222 - val_loss: 0.4431 - val_iou_score: 0.5074\n",
      "Epoch 50/70\n",
      "136/136 [==============================] - 432s 3s/step - loss: 0.4410 - iou_score: 0.5108 - val_loss: 0.4445 - val_iou_score: 0.5069\n",
      "Epoch 51/70\n",
      "136/136 [==============================] - 427s 3s/step - loss: 0.4371 - iou_score: 0.5133 - val_loss: 0.4349 - val_iou_score: 0.5174\n",
      "Epoch 52/70\n",
      "136/136 [==============================] - 420s 3s/step - loss: 0.4353 - iou_score: 0.5122 - val_loss: 0.4496 - val_iou_score: 0.5007\n",
      "Epoch 53/70\n",
      "136/136 [==============================] - 432s 3s/step - loss: 0.4399 - iou_score: 0.5109 - val_loss: 0.4388 - val_iou_score: 0.5185\n",
      "Epoch 54/70\n",
      "136/136 [==============================] - 427s 3s/step - loss: 0.4339 - iou_score: 0.5160 - val_loss: 0.4333 - val_iou_score: 0.5158\n",
      "Epoch 55/70\n",
      "136/136 [==============================] - 431s 3s/step - loss: 0.4370 - iou_score: 0.5139 - val_loss: 0.4344 - val_iou_score: 0.5174\n",
      "Epoch 56/70\n",
      "136/136 [==============================] - 432s 3s/step - loss: 0.4265 - iou_score: 0.5219 - val_loss: 0.4373 - val_iou_score: 0.5117\n",
      "Epoch 57/70\n",
      "136/136 [==============================] - 433s 3s/step - loss: 0.4401 - iou_score: 0.5080 - val_loss: 0.4362 - val_iou_score: 0.5135\n",
      "Epoch 58/70\n",
      "136/136 [==============================] - 435s 3s/step - loss: 0.4260 - iou_score: 0.5232 - val_loss: 0.4412 - val_iou_score: 0.5110\n",
      "Epoch 59/70\n",
      "136/136 [==============================] - 430s 3s/step - loss: 0.4366 - iou_score: 0.5134 - val_loss: 0.4290 - val_iou_score: 0.5212\n",
      "Epoch 60/70\n",
      "136/136 [==============================] - 435s 3s/step - loss: 0.4345 - iou_score: 0.5183 - val_loss: 0.4359 - val_iou_score: 0.5190\n",
      "Epoch 61/70\n",
      "136/136 [==============================] - 426s 3s/step - loss: 0.4271 - iou_score: 0.5251 - val_loss: 0.4325 - val_iou_score: 0.5196\n",
      "Epoch 62/70\n",
      "136/136 [==============================] - 428s 3s/step - loss: 0.4416 - iou_score: 0.5091 - val_loss: 0.4291 - val_iou_score: 0.5219\n",
      "Epoch 63/70\n",
      "136/136 [==============================] - 430s 3s/step - loss: 0.4379 - iou_score: 0.5122 - val_loss: 0.4365 - val_iou_score: 0.5148\n",
      "Epoch 64/70\n",
      "136/136 [==============================] - 431s 3s/step - loss: 0.4196 - iou_score: 0.5319 - val_loss: 0.4223 - val_iou_score: 0.5303\n",
      "Epoch 65/70\n",
      "136/136 [==============================] - 431s 3s/step - loss: 0.4253 - iou_score: 0.5269 - val_loss: 0.4292 - val_iou_score: 0.5209\n",
      "Epoch 66/70\n",
      "136/136 [==============================] - 413s 3s/step - loss: 0.4225 - iou_score: 0.5273 - val_loss: 0.4383 - val_iou_score: 0.5152\n",
      "Epoch 67/70\n",
      "136/136 [==============================] - 411s 3s/step - loss: 0.4139 - iou_score: 0.5340 - val_loss: 0.4338 - val_iou_score: 0.5145\n",
      "Epoch 68/70\n",
      "136/136 [==============================] - 413s 3s/step - loss: 0.4229 - iou_score: 0.5305 - val_loss: 0.4331 - val_iou_score: 0.5187\n",
      "Epoch 69/70\n",
      "136/136 [==============================] - 411s 3s/step - loss: 0.4225 - iou_score: 0.5293 - val_loss: 0.4296 - val_iou_score: 0.5169\n",
      "Epoch 70/70\n",
      "136/136 [==============================] - 413s 3s/step - loss: 0.4263 - iou_score: 0.5228 - val_loss: 0.4215 - val_iou_score: 0.5318\n"
     ]
    }
   ],
   "source": [
    "history = model.fit(train_dataloader, steps_per_epoch=len(train_dataloader)//5, epochs=70,\\\n",
    "                              validation_data=test_dataloader,validation_steps =len(test_dataloader)//5,callbacks=callbacks_ )\n"
   ]
  },
  {
   "cell_type": "markdown",
   "metadata": {
    "id": "mrVV7zW60bBW"
   },
   "source": [
    "### Task 2.1: Dice loss"
   ]
  },
  {
   "cell_type": "markdown",
   "metadata": {
    "id": "1zzYwXRi0bBW"
   },
   "source": [
    "<pre>\n",
    "* Explain the Dice loss\n",
    "* 1. Write the formualtion\n",
    "* 2. Range of the loss function\n",
    "* 3. Interpretation of loss function\n",
    "* 4. Write your understanding of the loss function, how does it helps in segmentation\n",
    "</pre>"
   ]
  },
  {
   "cell_type": "code",
   "execution_count": null,
   "metadata": {
    "colab": {
     "base_uri": "https://localhost:8080/"
    },
    "id": "pCFy3YgFyl_V",
    "outputId": "628721d3-95fe-496c-c393-cec047dcaddf"
   },
   "outputs": [
    {
     "name": "stdout",
     "output_type": "stream",
     "text": [
      " best_model1.h5                       \u001b[0m\u001b[01;34mdata5\u001b[0m/\n",
      " best_model2.h5                       \u001b[01;34mdata6\u001b[0m/\n",
      " best_model.h5                        data.zip\n",
      "'Copy of Reference_Pipelines.ipynb'   preprocessed_data1.csv\n",
      " \u001b[01;34mdata\u001b[0m/                                preprocessed_data.csv\n",
      " \u001b[01;34mdata1\u001b[0m/                               Reference_Preptrained_Unet.ipynb\n",
      " \u001b[01;34mdata2\u001b[0m/                               Segmentation_Assignment.ipynb\n",
      " \u001b[01;34mdata3\u001b[0m/                               test_image.png\n",
      " \u001b[01;34mdata4\u001b[0m/\n"
     ]
    }
   ],
   "source": [
    "ls"
   ]
  },
  {
   "cell_type": "code",
   "execution_count": null,
   "metadata": {
    "id": "TsTw5Gu8psGc"
   },
   "outputs": [],
   "source": [
    "import matplotlib.pyplot as plt"
   ]
  },
  {
   "cell_type": "code",
   "execution_count": null,
   "metadata": {
    "colab": {
     "base_uri": "https://localhost:8080/",
     "height": 257
    },
    "id": "Ya1bxAyUBish",
    "outputId": "87bdb012-1bcf-4257-e395-26a23fd6bacb"
   },
   "outputs": [
    {
     "data": {
      "image/png": "[encoded data removed]",
      "text/plain": [
       "<Figure size 2160x360 with 2 Axes>"
      ]
     },
     "metadata": {
      "needs_background": "light",
      "tags": []
     },
     "output_type": "display_data"
    }
   ],
   "source": [
    "# Plot training & validation iou_score values\n",
    "plt.figure(figsize=(30, 5))\n",
    "plt.subplot(121)\n",
    "plt.plot(history.history['iou_score'])\n",
    "plt.plot(history.history['val_iou_score'])\n",
    "plt.title('Model iou_score')\n",
    "plt.ylabel('iou_score')\n",
    "plt.xlabel('Epoch')\n",
    "plt.legend(['Train', 'Test'], loc='upper left')\n",
    "\n",
    "# Plot training & validation loss values\n",
    "plt.subplot(122)\n",
    "plt.plot(history.history['loss'])\n",
    "plt.plot(history.history['val_loss'])\n",
    "plt.title('Model loss')\n",
    "plt.ylabel('Loss')\n",
    "plt.xlabel('Epoch')\n",
    "plt.legend(['Train', 'Test'], loc='upper left')\n",
    "plt.show()"
   ]
  },
  {
   "cell_type": "code",
   "execution_count": null,
   "metadata": {
    "colab": {
     "base_uri": "https://localhost:8080/",
     "height": 415
    },
    "id": "gS5Bup33ysmR",
    "outputId": "852b2dfd-3e88-4851-ba5c-f876ac35dc59"
   },
   "outputs": [
    {
     "data": {
      "image/png": "[encoded data removed]",
      "text/plain": [
       "<Figure size 720x432 with 3 Axes>"
      ]
     },
     "metadata": {
      "needs_background": "light",
      "tags": []
     },
     "output_type": "display_data"
    },
    {
     "data": {
      "image/png": "[encoded data removed]",
      "text/plain": [
       "<Figure size 720x432 with 3 Axes>"
      ]
     },
     "metadata": {
      "needs_background": "light",
      "tags": []
     },
     "output_type": "display_data"
    }
   ],
   "source": [
    "a = X_test\n",
    "for i in range(2):  \n",
    "    #original image\n",
    "    image = cv2.imread(a[i][0],cv2.IMREAD_UNCHANGED)\n",
    "    image = cv2.resize(image, (512, 512))\n",
    "    \n",
    "    #predicted segmentation map\n",
    "    predicted  = model.predict(image[np.newaxis,:,:,:])\n",
    "    \n",
    "    #original segmentation map\n",
    "    image_mask = cv2.imread(a[i][1], cv2.IMREAD_UNCHANGED)\n",
    "    image_mask = cv2.resize(image_mask, (512,512))\n",
    "    \n",
    "\n",
    "    plt.figure(figsize=(10,6))\n",
    "    plt.subplot(131)\n",
    "    plt.imshow(image)\n",
    "    plt.subplot(132)\n",
    "    plt.imshow(image_mask, cmap='gray')\n",
    "    plt.subplot(133)\n",
    "    plt.imshow(predicted[0,:,:,0], cmap='gray')\n",
    "    plt.show()"
   ]
  },
  {
   "cell_type": "code",
   "execution_count": null,
   "metadata": {
    "id": "UlpcyGoeBl6e"
   },
   "outputs": [],
   "source": [
    "dir_path = '900_images'\n",
    "for p, i in enumerate(X_test):\n",
    "    #original image\n",
    "    image = cv2.imread(os.path.join(dir_path, i+'.jpg'), cv2.IMREAD_UNCHANGED)\n",
    "    image = cv2.resize(image, (512,512)) \n",
    "    \n",
    "    #predicted segmentation map\n",
    "    predicted  = model.predict(image[np.newaxis,:,:,:])\n",
    "    \n",
    "    #original segmentation map\n",
    "    image_mask = cv2.imread(os.path.join(dir_path, i+'.mask.jpg'), cv2.IMREAD_UNCHANGED)\n",
    "    image_mask = cv2.resize(image_mask, (512,512))\n",
    "    \n",
    "\n",
    "    plt.figure(figsize=(10,6))\n",
    "    plt.subplot(131)\n",
    "    plt.imshow(image)\n",
    "    plt.subplot(132)\n",
    "    plt.imshow(image_mask, cmap='gray', vmax=1, vmin=0)\n",
    "    plt.subplot(133)\n",
    "    plt.imshow(predicted[0,:,:,0], cmap='gray', vmax=1, vmin=0)\n",
    "    plt.show()"
   ]
  },
  {
   "cell_type": "markdown",
   "metadata": {
    "id": "akXZdZBx0bBX"
   },
   "source": [
    "### Task 2.2: Training Unet"
   ]
  },
  {
   "cell_type": "markdown",
   "metadata": {
    "id": "U5bKBqDn0bBX"
   },
   "source": [
    "\n",
    "<pre>\n",
    "* Split the data into 80:20.\n",
    "* Train the UNET on the given dataset and plot the train and validation loss.\n",
    "* As shown in the reference notebook plot 20 images from the test data along with its segmentation map, predicted map.\n",
    "</pre>"
   ]
  },
  {
   "cell_type": "markdown",
   "metadata": {
    "id": "zTtIHDSf0bBY"
   },
   "source": [
    "# Task 3: Training CANet"
   ]
  },
  {
   "cell_type": "code",
   "execution_count": null,
   "metadata": {
    "colab": {
     "base_uri": "https://localhost:8080/"
    },
    "id": "lM6PTaqo0bBY",
    "outputId": "a1ee64bc-6500-478a-96a0-960f93a33ac1"
   },
   "outputs": [
    {
     "name": "stderr",
     "output_type": "stream",
     "text": [
      "/usr/local/lib/python3.6/dist-packages/tensorflow/python/keras/backend.py:434: UserWarning: `tf.keras.backend.set_learning_phase` is deprecated and will be removed after 2020-10-11. To update it, simply pass a True/False value to the `training` argument of the `__call__` method of your layer or model.\n",
      "  warnings.warn('`tf.keras.backend.set_learning_phase` is deprecated and '\n"
     ]
    }
   ],
   "source": [
    "import tensorflow as tf\n",
    "# tf.compat.v1.enable_eager_execution()\n",
    "from tensorflow import keras\n",
    "from tensorflow.keras.layers import *\n",
    "from tensorflow.keras.preprocessing import image\n",
    "from tensorflow.keras.models import Model, load_model\n",
    "from tensorflow.keras.layers import UpSampling2D\n",
    "from tensorflow.keras.layers import MaxPooling2D, GlobalAveragePooling2D\n",
    "from tensorflow.keras.layers import concatenate\n",
    "from tensorflow.keras.layers import Multiply\n",
    "from tensorflow.keras.callbacks import EarlyStopping, ModelCheckpoint\n",
    "from tensorflow.keras import backend as K\n",
    "from tensorflow.keras.layers import Input, Add, Dense, Activation, ZeroPadding2D, BatchNormalization, Flatten, Conv2D, AveragePooling2D, MaxPooling2D, GlobalMaxPooling2D\n",
    "from tensorflow.keras.models import Model, load_model\n",
    "from tensorflow.keras.utils import plot_model\n",
    "from tensorflow.keras.initializers import glorot_uniform\n",
    "K.set_image_data_format('channels_last')\n",
    "K.set_learning_phase(1)"
   ]
  },
  {
   "cell_type": "markdown",
   "metadata": {
    "id": "f0DIdIxO0bBb"
   },
   "source": [
    "* as a part of this assignment we will be implementing the architecture based on this paper https://arxiv.org/pdf/2002.12041.pdf\n",
    "* We will be using the custom layers concept that we used in seq-seq assignment\n",
    "* You can devide the whole architecture can be devided into two parts\n",
    "    1. Encoder\n",
    "    2. Decoder\n",
    "    <img src='https://i.imgur.com/prH3Mno.png' width=\"600\">\n",
    "* Encoder:\n",
    "    * The first step of the encoder is to create the channel maps [$C_1$, $C_2$, $C_3$, $C_4$]\n",
    "    * $C_1$ width and heigths are 4x times less than the original image\n",
    "    * $C_2$ width and heigths are 8x times less than the original image\n",
    "    * $C_3$ width and heigths are 8x times less than the original image\n",
    "    * $C_4$ width and heigths are 8x times less than the original image\n",
    "    * <i>you can reduce the dimensions by using stride parameter</i>.\n",
    "    * [$C_1$, $C_2$, $C_3$, $C_4$] are formed by applying a \"conv block\" followed by $k$ number of \"identity block\". i.e the $C_k$ feature map will single \"conv block\" followed by $k$ number of \"identity blocks\".\n",
    "    <table>\n",
    "    <tr><td><img src=\"https://i.imgur.com/R8Gdypo.png\" width=\"300\"></td>\n",
    "        <td><img src=\"https://i.imgur.com/KNunjQK.png\" width=\"250\"></td></tr>\n",
    "    </table>\n",
    "    * <strong>The conv block and identity block of $C_1$</strong>: the number filters in the covolutional layers will be $[4,4,8]$ and the number of filters in the parallel conv layer will also be $8$.\n",
    "    * <strong>The conv block and identity block of $C_2$</strong>: the number filters in the covolutional layers will be $[8,8,16]$ and the number of filters in the parallel conv layer will also be $16$.\n",
    "    * <strong>The conv block and identity block of $C_3$</strong>: the number filters in the covolutional layers will be $[16,16,32]$ and the number of filters in the parallel conv layer will also be $32$.\n",
    "    * <strong>The conv block and identity block of $C_4$</strong>: the number filters in the covolutional layers will be $[32,32,64]$ and the number of filters in the parallel conv layer will also be $64$.\n",
    "    * Here $\\oplus$ represents the elementwise sum\n",
    "    <br>\n",
    "    \n",
    "    <font color=\"red\">NOTE: these filters are of your choice, you can explore more options also</font>\n",
    "    \n",
    "    * Example: if your image is of size $(512, 512, 3)$\n",
    "        * the output after $C_1$ will be $128*128*8$\n",
    "        * the output after $C_2$ will be $64*64*16$\n",
    "        * the output after $C_3$ will be $64*64*32$\n",
    "        * the output after $C_4$ will be $64*64*64$"
   ]
  },
  {
   "cell_type": "code",
   "execution_count": null,
   "metadata": {
    "id": "AMdxrF6p0bBb"
   },
   "outputs": [],
   "source": [
    "class convolutional_block(tf.keras.layers.Layer):\n",
    "    def __init__(self, kernel=3,  filters=[4,4,8], stride=1, name=\"conv_block\"):  #, name=\"conv block\"\n",
    "        super().__init__(name=name)\n",
    "        self.F1, self.F2, self.F3 = filters\n",
    "        self.kernel = kernel\n",
    "        self.stride = stride\n",
    "    def call(self, X,training=True):\n",
    "   \n",
    "      X_parallel = X\n",
    " \n",
    "      X1 = Conv2D(self.F1, kernel_size =(1, 1), strides = (self.stride,self.stride), \n",
    "                 kernel_initializer = glorot_uniform(seed=0))(X)\n",
    "      X2 = BatchNormalization(axis = 3, momentum=0.99, epsilon=0.001 )(X1)\n",
    "      X3 = Activation('relu')(X2)\n",
    "\n",
    "\n",
    "      X4 = Conv2D(filters = self.F2, kernel_size = (self.kernel, self.kernel), strides = (1,1), padding = 'same', \n",
    "                 kernel_initializer = glorot_uniform(seed=0))(X3)\n",
    "      X5 = BatchNormalization(axis = 3, momentum=0.99, epsilon=0.001)(X4)\n",
    "      X6 = Activation('relu')(X5)\n",
    "\n",
    "\n",
    "      X7 = Conv2D(filters = self.F3, kernel_size = (1, 1), strides = (1,1), padding = 'valid', \n",
    "                 kernel_initializer = glorot_uniform(seed=0))(X6)\n",
    "      X8 = BatchNormalization(axis = 3, momentum=0.99, epsilon=0.001)(X7)\n",
    "\n",
    "\n",
    "\n",
    "      X_parallel1 = Conv2D(filters = self.F3, kernel_size = (1, 1), strides = (self.stride,self.stride), padding = 'valid',\n",
    "                        kernel_initializer = glorot_uniform(seed=0))(X_parallel)\n",
    "      X_parallel2 = BatchNormalization(axis = 3, momentum=0.99, epsilon=0.001)(X_parallel1)\n",
    "\n",
    "    \n",
    "      X9 = Add()([X8, X_parallel2])\n",
    "      X10 = Activation('relu')(X9)\n",
    "      \n",
    "      return X10"
   ]
  },
  {
   "cell_type": "code",
   "execution_count": null,
   "metadata": {
    "id": "N21jV3h_iDtG"
   },
   "outputs": [],
   "source": [
    "class convolutional_block(tf.keras.layers.Layer):\n",
    "    def __init__(self, kernel=3,  filters=[4,4,8], stride=1, name=\"conv_block\"):  #, name=\"conv block\"\n",
    "        super().__init__(name=name)\n",
    "        self.F1, self.F2, self.F3 = filters\n",
    "        self.kernel = kernel\n",
    "        self.stride = stride    \n",
    "\n",
    "        self.Conv2d1 = Conv2D(self.F1, kernel_size =(1, 1), strides = (self.stride,self.stride), \n",
    "                 kernel_initializer = glorot_uniform(seed=0))\n",
    "\n",
    "        self.batch1 = BatchNormalization(axis = 3)\n",
    "        self.batch2 = BatchNormalization(axis = 3)\n",
    "        self.batch3 = BatchNormalization(axis = 3)\n",
    "        self.batch4 = BatchNormalization(axis = 3)\n",
    "\n",
    "        self.Conv2d2 = Conv2D(filters = self.F2, kernel_size = (self.kernel, self.kernel), strides = (1,1), padding = 'same', \n",
    "                 kernel_initializer = glorot_uniform(seed=0))\n",
    "\n",
    "        self.Conv2d3 = Conv2D(filters = self.F3, kernel_size = (1, 1), strides = (1,1), padding = 'valid', \n",
    "                 kernel_initializer = glorot_uniform(seed=0))\n",
    "\n",
    "        self.Conv2d4 = Conv2D(filters = self.F3, kernel_size = (1, 1), strides = (self.stride,self.stride), padding = 'valid',\n",
    "                        kernel_initializer = glorot_uniform(seed=0))                         \n",
    "\n",
    "\n",
    "    def call(self, X,training=True):\n",
    "   \n",
    "      X_parallel = X\n",
    "\n",
    "      X = self.Conv2d1(X)\n",
    "      X = self.batch1(X)\n",
    "      X = tf.nn.relu(X)\n",
    "\n",
    "\n",
    "      X = self.Conv2d2(X)\n",
    "      X = self.batch2(X)\n",
    "      X = tf.nn.relu(X)\n",
    "\n",
    "\n",
    "\n",
    "      X = self.Conv2d3(X)\n",
    "      X = self.batch3(X)\n",
    "\n",
    "\n",
    "      X_parallel = self.Conv2d4(X_parallel)\n",
    "      X_parallel = self.batch4(X_parallel)\n",
    "\n",
    "    \n",
    "      X = Add()([X, X_parallel])\n",
    "      X = tf.nn.relu(X)\n",
    "      \n",
    "      \n",
    "      return X"
   ]
  },
  {
   "cell_type": "code",
   "execution_count": null,
   "metadata": {
    "id": "WZjGHnBf0bBd"
   },
   "outputs": [],
   "source": [
    "class identity_block(tf.keras.layers.Layer):\n",
    "    def __init__(self, kernel=3,  filters=[4,4,8], name=\"identity_block\"):\n",
    "        super().__init__(name=name)\n",
    "        self.F1, self.F2, self.F3 = filters\n",
    "        self.kernel = kernel\n",
    "    def call(self, X,training=True):\n",
    "      X_parallel = X\n",
    "\n",
    "      X1 = Conv2D(filters = self.F1, kernel_size = (1, 1), strides = (1,1), padding = 'valid', \n",
    "                 kernel_initializer = glorot_uniform(seed=0))(X)\n",
    "      X2 = BatchNormalization(axis = 3, momentum=0.99, epsilon=0.001)(X1)\n",
    "      X3 = Activation('relu')(X2)\n",
    "\n",
    "\n",
    "      X4 = Conv2D(filters = self.F2, kernel_size = (self.kernel, self.kernel), strides = (1,1), padding = 'same', \n",
    "                 kernel_initializer = glorot_uniform(seed=0))(X3)\n",
    "      X5 = BatchNormalization(axis = 3, momentum=0.99, epsilon=0.001)(X4)\n",
    "      X6 = Activation('relu')(X5)\n",
    "\n",
    "\n",
    "      X7 = Conv2D(filters = self.F3, kernel_size = (1, 1), strides = (1,1), padding = 'valid', \n",
    "                 kernel_initializer = glorot_uniform(seed=0))(X6)\n",
    "      X8 = BatchNormalization(axis = 3, momentum=0.99, epsilon=0.001)(X7)\n",
    "\n",
    "\n",
    "      X9 = Add()([X8, X_parallel])\n",
    "      X10 = Activation('relu')(X9)\n",
    "      \n",
    "      return X10"
   ]
  },
  {
   "cell_type": "code",
   "execution_count": null,
   "metadata": {
    "id": "hn2rUdySCoPM"
   },
   "outputs": [],
   "source": [
    "class identity_block(tf.keras.layers.Layer):\n",
    "    def __init__(self, kernel=3,  filters=[4,4,8], name=\"identity_block\"):\n",
    "        super().__init__(name=name)\n",
    "        self.F1, self.F2, self.F3 = filters\n",
    "        self.kernel = kernel\n",
    "\n",
    "        self.Conv2d1 = Conv2D(filters = self.F1, kernel_size = (1, 1), strides = (1,1), padding = 'valid', \n",
    "                 kernel_initializer = glorot_uniform(seed=0))\n",
    "      \n",
    "        self.Conv2d2 = Conv2D(filters = self.F2, kernel_size = (self.kernel, self.kernel), strides = (1,1), padding = 'same', \n",
    "                 kernel_initializer = glorot_uniform(seed=0))\n",
    "      \n",
    "        self.Conv2d3 = Conv2D(filters = self.F3, kernel_size = (1, 1), strides = (1,1), padding = 'valid', \n",
    "                 kernel_initializer = glorot_uniform(seed=0))\n",
    "      \n",
    "        self.batch1 = BatchNormalization(axis = 3)\n",
    "        self.batch2 = BatchNormalization(axis = 3) \n",
    "        self.batch3 = BatchNormalization(axis = 3)  \n",
    "\n",
    "    def call(self, X):\n",
    "      X_parallel = X\n",
    "\n",
    "      X = self.Conv2d1(X)\n",
    "      X = self.batch1(X)\n",
    "      X = tf.nn.relu(X)\n",
    "\n",
    "\n",
    "      X4 = self.Conv2d2(X)\n",
    "      X5 = self.batch2(X)\n",
    "      X = tf.nn.relu(X)\n",
    "\n",
    "\n",
    "      X = self.Conv2d3(X)\n",
    "      X = self.batch3(X)\n",
    "\n",
    "\n",
    "      X = Add()([X, X_parallel])\n",
    "      X = tf.nn.relu(X)\n",
    "      \n",
    "      return X"
   ]
  },
  {
   "cell_type": "code",
   "execution_count": null,
   "metadata": {
    "id": "uEd_haJY7gm_"
   },
   "outputs": [],
   "source": [
    "class identity_block(tf.keras.layers.Layer):\n",
    "    def __init__(self, kernel=3,  filters=[4,4,8], name=\"identity_block\"):\n",
    "        super().__init__(name=name)\n",
    "        self.F1, self.F2, self.F3 = filters\n",
    "        self.kernel = kernel\n",
    "        self.conv1 = Conv2D(filters = self.F1, kernel_size = (1, 1), strides = (1,1), padding = 'valid', \n",
    "                 kernel_initializer = glorot_uniform(seed=0))\n",
    "        self.batch1 = BatchNormalization(axis = 3, momentum=0.99, epsilon=0.001)\n",
    "      \n",
    "        self.conv2 = Conv2D(filters = self.F2, kernel_size = (self.kernel, self.kernel), strides = (1,1), padding = 'same', \n",
    "                 kernel_initializer = glorot_uniform(seed=0))\n",
    "        self.batch2 = BatchNormalization(axis = 3, momentum=0.99, epsilon=0.001)\n",
    "    \n",
    "\n",
    "        self.conv3 = Conv2D(filters = self.F3, kernel_size = (1, 1), strides = (1,1), padding = 'valid', \n",
    "                 kernel_initializer = glorot_uniform(seed=0))\n",
    "        self.batch3 = BatchNormalization(axis = 3, momentum=0.99, epsilon=0.001)\n",
    "\n",
    "\n",
    "    def call(self, X,training=True):\n",
    "      X_parallel = X\n",
    "\n",
    "      X = self.conv1(X)\n",
    "      X = self.batch1(X)\n",
    "      X = Activation('relu')(X)\n",
    "\n",
    "\n",
    "      X = self.conv2(X)\n",
    "      X = self.batch2(X)\n",
    "      X = Activation('relu')(X)\n",
    "\n",
    "\n",
    "      X = self.conv3(X)\n",
    "      X = self.batch3(X)\n",
    "\n",
    "\n",
    "      X = Add()([X, X_parallel])\n",
    "      X = Activation('relu')(X)\n",
    "      \n",
    "      return X"
   ]
  },
  {
   "cell_type": "markdown",
   "metadata": {
    "id": "QNP8W_o90bBg"
   },
   "source": [
    "* The output of the $C_4$ will be passed to $\\text{Chained Context Aggregation Module (CAM)}$\n",
    "<img src='https://i.imgur.com/Bu63AAA.png' width=\"400\">\n",
    "* The CAM module will have two operations names Context flow and Global flow\n",
    "* <strong>The Global flow</strong>: \n",
    "    * as shown in the above figure first we willl apply  <a href=\"https://www.tensorflow.org/api_docs/python/tf/keras/layers/GlobalAveragePooling2D\">global avg pooling</a> which results in (#, 1, 1, number_of_filters) then applying <a href=\"https://www.tensorflow.org/api_docs/python/tf/keras/layers/BatchNormalization?version=nightly\">BN</a>, <a href=\"https://www.tensorflow.org/api_docs/python/tf/keras/layers/ReLU\">RELU</a>, $1*1 \\text{ Conv}$ layer sequentially which results a matrix (#, 1, 1, number_of_filters). Finally apply <a href=\"https://www.tensorflow.org/api_docs/python/tf/keras/layers/UpSampling2D\">upsampling</a> / <a href=\"https://www.tensorflow.org/api_docs/python/tf/keras/layers/Conv2DTranspose\">conv2d transpose</a> to make the output same as the input dimensions (#, input_height, input_width, number_of_filters)\n",
    "    * If you use <a href=\"https://www.tensorflow.org/api_docs/python/tf/keras/layers/UpSampling2D\">upsampling</a> then use bilinear pooling as interpolation technique\n",
    "* <strong>The Context flow</strong>: \n",
    "    * as shown in the above figure (c) the context flow will get inputs from two modules `a. C4` `b. From the above flow` \n",
    "    * We will be <a href=\"https://www.tensorflow.org/api_docs/python/tf/keras/layers/Concatenate\">concatinating</a> the both inputs on the last axis.\n",
    "    * After the concatination we will be applying <a href=\"https://www.tensorflow.org/api_docs/python/tf/keras/layers/AveragePooling2D\"> Average pooling </a> which reduces the size of feature map by $N\\times$ times\n",
    "    * In the paper it was mentioned that to apply a group convolutions, but for the assignment we will be applying the simple conv layers with kernel size $(3*3)$\n",
    "    * We are skipping the channel shuffling \n",
    "    * similarly we will be applying a simple conv layers with kernel size $(3*3)$ consider this output is X\n",
    "    * later we will get the Y=(X $\\otimes \\sigma((1\\times1)conv(relu((1\\times1)conv(X))))) \\oplus X$, here $\\oplus$ is elementwise addition and $\\otimes$ is elementwise multiplication\n",
    "    * Finally apply <a href=\"https://www.tensorflow.org/api_docs/python/tf/keras/layers/UpSampling2D\">upsampling</a> / <a href=\"https://www.tensorflow.org/api_docs/python/tf/keras/layers/Conv2DTranspose\">conv2d transpose</a> to make the output same as the input dimensions (#, input_height, input_width, number_of_filters)\n",
    "    * If you use <a href=\"https://www.tensorflow.org/api_docs/python/tf/keras/layers/UpSampling2D\">upsampling</a> then use bilinear pooling as interpolation technique\n",
    "\n",
    "NOTE: here N times reduction and N time increments makes the input and out shape same, you can explore with the N values, you can choose N = 2 or 4\n",
    "\n",
    "* Example with N=2:\n",
    "    * Assume the C4 is of shape (64,64,64) then the shape of GF will be (64,64,32)\n",
    "    * Assume the C4 is of shape (64,64,64) and the shape of GF is (64,64,32) then the shape of CF1 will be (64,64,32)\n",
    "    * Assume the C4 is of shape (64,64,64) and the shape of CF1 is (64,64,32) then the shape of CF2 will be (64,64,32)\n",
    "    * Assume the C4 is of shape (64,64,64) and the shape of CF2 is (64,64,32) then the shape of CF3 will be (64,64,32)"
   ]
  },
  {
   "cell_type": "code",
   "execution_count": null,
   "metadata": {
    "id": "p2tIIP730bBg"
   },
   "outputs": [],
   "source": [
    "class global_flow(tf.keras.layers.Layer):\n",
    "    def __init__(self, name=\"global_flow\"):\n",
    "        super().__init__(name=name)\n",
    "        \n",
    "    def call(self, X):\n",
    "      output = X\n",
    "      gf = tf.keras.layers.AveragePooling2D(strides= 1,pool_size = (16,16))(output)                  \n",
    "      gf = BatchNormalization(momentum=0.99, epsilon=0.001)(gf)\n",
    "      gf = Activation('relu')(gf)    \n",
    "      gf = Conv2D(filters = 32, kernel_size = (1, 1), activation = 'relu', padding = 'same')(gf)\n",
    "      gf = (Conv2DTranspose(filters = 32 ,kernel_size = (16,16), use_bias = False))(gf)\n",
    "      return gf"
   ]
  },
  {
   "cell_type": "code",
   "execution_count": null,
   "metadata": {
    "id": "Jp77RyE2rR0S"
   },
   "outputs": [],
   "source": [
    "class global_flow(tf.keras.layers.Layer):\n",
    "    def __init__(self, name=\"global_flow\"):\n",
    "        super().__init__(name=name)\n",
    "        self.avg = tf.keras.layers.AveragePooling2D(strides= 1,pool_size = (16,16))                 \n",
    "        self.batch = BatchNormalization() \n",
    "        self.convd1 = Conv2D(filters = 32, kernel_size = (1, 1), activation = 'relu', padding = 'same')\n",
    "        self.conT = (Conv2DTranspose(filters = 32 ,kernel_size = (16,16), use_bias = False))\n",
    "        \n",
    "    def call(self, X):\n",
    "      output = X\n",
    "      gf = self.avg(output)                  \n",
    "      gf = self.batch(gf)\n",
    "      gf = tf.nn.relu(gf)   \n",
    "      gf = self.convd1(gf)\n",
    "      gf = self.conT(gf)\n",
    "      return gf"
   ]
  },
  {
   "cell_type": "code",
   "execution_count": null,
   "metadata": {
    "id": "Oe938KHw0bBk"
   },
   "outputs": [],
   "source": [
    "class context_flow(tf.keras.layers.Layer):    \n",
    "    def __init__(self, name=\"context_flow\"):\n",
    "        super().__init__(name=name)\n",
    "    def call(self, X):\n",
    "      # here X will a list of two elements \n",
    "      INP, FLOW = X[0], X[1] \n",
    "      Concat = Concatenate()([INP,FLOW])\n",
    "      cf = AveragePooling2D((2, 2),  (2, 2), name = 'CF1_pool' )(Concat) #check\n",
    "      cf_1 = Conv2D(filters = 32, kernel_size = (3, 3), activation = 'relu', padding = 'same')(cf)\n",
    "      cf_2 = Conv2D(filters = 32, kernel_size = (3, 3), activation = 'relu', padding = 'same')(cf_1) #only two conv layer\n",
    "      cf_3 = Conv2D(filters = 32, kernel_size = (1, 1), activation = 'relu', padding = 'same')(cf_2)\n",
    "      cf_A = Activation('relu')(cf_3)\n",
    "      cf_4 = Conv2D(filters = 32, kernel_size = (1, 1), activation = 'relu', padding = 'same')(cf_A)\n",
    "      cf_A1 = Activation('sigmoid')(cf_4)\n",
    "      cf_M = Multiply()([cf_2 , cf_A1])\n",
    "      cf_add = Add()([cf_2,cf_M])\n",
    "      #cf_Tr = (Conv2DTranspose(filters = 32 ,  kernel_size = (9, 9), use_bias = False ))(cf_add)\n",
    "      cf_Tr  = UpSampling2D((2,2), interpolation = 'bilinear')(cf_add)\n",
    "\n",
    "\n",
    "        # implement the context flow as mentioned in the above cell\n",
    "      return cf_Tr"
   ]
  },
  {
   "cell_type": "code",
   "execution_count": null,
   "metadata": {
    "id": "Y-ZuIFHDsXKQ"
   },
   "outputs": [],
   "source": [
    "class context_flow(tf.keras.layers.Layer):    \n",
    "    def __init__(self, name=\"context_flow\"):\n",
    "        super().__init__(name=name)\n",
    "        \n",
    "        self.avg = AveragePooling2D((2, 2),  (2, 2), name = 'cf1_pool' ) #check\n",
    "        self.conv1 = Conv2D(filters = 32, kernel_size = (3, 3), activation = 'relu', padding = 'same')\n",
    "        self.conv2 = Conv2D(filters = 32, kernel_size = (3, 3), activation = 'relu', padding = 'same') #only two conv layer\n",
    "        self.conv3 = Conv2D(filters = 32, kernel_size = (1, 1), activation = 'relu', padding = 'same')\n",
    "        self.conv4 = Conv2D(filters = 32, kernel_size = (1, 1), activation = 'relu', padding = 'same')\n",
    "        self.up  = UpSampling2D((2,2), interpolation = 'bilinear')\n",
    "\n",
    "    def call(self, X):\n",
    "      # here X will a list of two elements \n",
    "      INP, FLOW = X[0], X[1] \n",
    "      Concat = Concatenate()([INP,FLOW])\n",
    "      cf = self.avg(Concat) #check\n",
    "      cf_1 = self.conv1(cf)\n",
    "      cf_2 = self.conv2(cf_1) #only two conv layer\n",
    "      cf_3 = self.conv3(cf_2)\n",
    "      cf_A = Activation('relu')(cf_3)\n",
    "      cf_4 = self.conv4(cf_A)\n",
    "      cf_A1 = Activation('sigmoid')(cf_4)\n",
    "      cf_M = Multiply()([cf_2 , cf_A1])\n",
    "      cf_add = Add()([cf_2,cf_M])\n",
    "      #cf_Tr = (Conv2DTranspose(filters = 32 ,  kernel_size = (9, 9), use_bias = False ))(cf_add)\n",
    "      cf_Tr  = self.up(cf_add)\n",
    "\n",
    "\n",
    "        # implement the context flow as mentioned in the above cell\n",
    "      return cf_Tr"
   ]
  },
  {
   "cell_type": "markdown",
   "metadata": {
    "id": "kZyxvYZp0bBm"
   },
   "source": [
    "* As shown in the above architecture we will be having 4 context flows\n",
    "* if you have implemented correctly all the shapes of Global Flow, and 3 context flows will have the same dimension\n",
    "* the output of these 4 modules will be <a href=\"https://www.tensorflow.org/api_docs/python/tf/keras/layers/Add\">added</a> to get the same output matrix\n",
    "<img src='https://i.imgur.com/Bu63AAA.png' width=\"400\">\n",
    " * The output of after the sum, will be sent to the <strong>Feature selection module $FSM$</strong>\n",
    " \n",
    "* Example:\n",
    "    * if the shapes of GF, CF1, CF2, CF3 are (64,64,32), (64,64,32), (64,64,32), (64,64,32), (64,64,32) respectivly then after the sum we will be getting (64,64,32), which will be passed to the next module.\n",
    " \n",
    "<strong>Feature selection module</strong>:\n",
    "\n",
    "* As part of the FSM we will be applying a conv layer (3,3) with the padding=\"same\" so that the output and input will have same shapes\n",
    "* Let call the output as X\n",
    "* Pass the X to global pooling which results the matrix (#, 1, 1, number_of_channels)\n",
    "* Apply $1*1$ conv layer, after the pooling\n",
    "* the output of the $1*1$ conv layer will be passed to the Batch normalization layer, followed by Sigmoid activation function.\n",
    "* we will be having the output matrix of shape (#, 1, 1, number_of_channels) lets call it 'Y'\n",
    "* <strong>we can interpret this as attention mechanisum, i.e for each channel we will having a weight</strong>\n",
    "* the dimension of X (#, w, h, k) and output above steps Y is (#, 1, 1, k) i.e we need to multiply each channel of X will be <a href=\"https://www.tensorflow.org/api_docs/python/tf/keras/layers/Multiply\">multiplied</a> with corresponding channel of Y\n",
    "* After creating the weighted channel map we will be doing upsampling such that it will double the height and width.\n",
    "* apply <a href=\"https://www.tensorflow.org/api_docs/python/tf/keras/layers/UpSampling2D\">upsampling</a> with bilinear pooling as interpolation technique\n",
    "\n",
    "* <font color=\"red\">Example</font>:\n",
    "    * Assume the matrix shape of the input is (64,64,32) then after upsampling it will be (128,128,32)"
   ]
  },
  {
   "cell_type": "code",
   "execution_count": null,
   "metadata": {
    "id": "dNB8srLR0bBn"
   },
   "outputs": [],
   "source": [
    "class fsm(tf.keras.layers.Layer):    \n",
    "    def __init__(self, name=\"feature_selection\"):\n",
    "        super().__init__(name=name)\n",
    "        \n",
    "    def call(self, X):\n",
    "      FSM_1 = Conv2D(filters = 32, kernel_size = (3, 3), activation = 'relu', padding = 'same')(X)\n",
    "      FSM_avg = AveragePooling2D(1,(2, 2))(FSM_1) #check\n",
    "      FSM = Conv2D(filters = 32, kernel_size = (1, 1), activation = 'relu', padding = 'same')(FSM_avg)\n",
    "      FSM_bn = BatchNormalization()(FSM)\n",
    "      FSM_s = Activation('sigmoid')(FSM_bn)\n",
    "      #FSM_M = Multiply()([FSM_1,FSM_s])\n",
    "      #FSM_T = Conv2DTranspose(filters = 32 ,  kernel_size = (9, 9), use_bias = False )(FSM_s)\n",
    "      FSM_T  = UpSampling2D((2,2), interpolation = 'bilinear')(FSM_s)\n",
    "      FSM_T = Multiply()([FSM_1,FSM_T])\n",
    "      \n",
    "      # implement the FSM modules based on image in the above cells\n",
    "      return FSM_T"
   ]
  },
  {
   "cell_type": "code",
   "execution_count": null,
   "metadata": {
    "id": "W1-xT_0PugQL"
   },
   "outputs": [],
   "source": [
    "class fsm(tf.keras.layers.Layer):    \n",
    "    def __init__(self, name=\"feature_selection\"):\n",
    "        super().__init__(name=name)\n",
    "        self.conv1 = Conv2D(filters = 32, kernel_size = (3, 3), activation = 'relu', padding = 'same')\n",
    "        self.avg = AveragePooling2D(1,(2, 2)) #check\n",
    "        self.conv2 = Conv2D(filters = 32, kernel_size = (1, 1), activation = 'relu', padding = 'same')\n",
    "        self.batch = BatchNormalization()\n",
    "        self.up  = UpSampling2D((2,2), interpolation = 'bilinear')\n",
    "        \n",
    "    def call(self, X,training=True):\n",
    "      FSM_1 = self.conv1(X)\n",
    "      FSM_avg = self.avg(FSM_1) #check\n",
    "      FSM = self.conv2(FSM_avg)\n",
    "      FSM_bn = self.batch(FSM)\n",
    "      FSM_s = Activation('sigmoid')(FSM_bn)\n",
    "      #FSM_M = Multiply()([FSM_1,FSM_s])\n",
    "      #FSM_T = Conv2DTranspose(filters = 32 ,  kernel_size = (9, 9), use_bias = False )(FSM_s)\n",
    "      FSM_T  = self.up(FSM_s)\n",
    "      FSM_T = Multiply()([FSM_1,FSM_T])\n",
    "      \n",
    "      # implement the FSM modules based on image in the above cells\n",
    "      return FSM_T"
   ]
  },
  {
   "cell_type": "markdown",
   "metadata": {
    "id": "_Xoqx8w50bBp"
   },
   "source": [
    "* <b>Adapted Global Convolutional Network (AGCN)</b>:\n",
    "    <img src=\"https://i.imgur.com/QNB8RmV.png\" width=\"300\">\n",
    "    \n",
    "    * AGCN will get the input from the output of the \"conv block\" of $C_1$\n",
    "    \n",
    "    * In all the above layers we will be using the padding=\"same\" and stride=(1,1)\n",
    "    \n",
    "    * so that we can have the input and output matrices of same size\n",
    "    \n",
    "* <font color=\"red\">Example</font>:\n",
    "    * Assume the matrix shape of the input is (128,128,32) then the output it will be (128,128,32)"
   ]
  },
  {
   "cell_type": "code",
   "execution_count": null,
   "metadata": {
    "id": "dL_T1Muv0bBq"
   },
   "outputs": [],
   "source": [
    "class agcn(tf.keras.layers.Layer):    \n",
    "    def __init__(self, name=\"global_conv_net\"):\n",
    "        super().__init__(name=name)\n",
    "        \n",
    "    def call(self, X,training=True):\n",
    "      fsm, X_Stage_2_ = X[0], X[1]\n",
    "\n",
    "      fsm =  (UpSampling2D((2,2), interpolation='bilinear'))(fsm)\n",
    "\n",
    "      ag_L1 = Conv2D(filters = 32, kernel_size = (7, 1), activation = 'relu', padding = 'same')(X_Stage_2_)\n",
    "      ag_L2 = Conv2D(filters = 32, kernel_size = (1, 7), activation = 'relu', padding = 'same')(ag_L1)\n",
    "\n",
    "      ag_L3 = Conv2D(filters = 32, kernel_size = (1, 7), activation = 'relu', padding = 'same')(X_Stage_2_)\n",
    "      ag_L4 = Conv2D(filters = 32, kernel_size = (7, 1), activation = 'relu', padding = 'same')(ag_L3)\n",
    "\n",
    "      sum1 = Add()([ag_L2,ag_L4])\n",
    "\n",
    "      ag_conv = Conv2D(filters = 32, kernel_size =(3, 3), activation = 'relu', padding = 'same')(sum1)\n",
    "\n",
    "      sum2 = Add()([sum1,ag_conv])\n",
    "\n",
    "\n",
    "      \n",
    "      sum2 = (UpSampling2D((2,2), interpolation='bilinear'))(sum2)\n",
    "      CF = concatenate([fsm,sum2])\n",
    "      X = Conv2D(filters = 40, kernel_size = (3, 3), activation = 'relu', padding = 'same')(CF)\n",
    "    \n",
    "      X  = UpSampling2D((4,4), interpolation = 'bilinear')(X)\n",
    "      X = (Activation('softmax'))(X)\n",
    "        # please implement the above mentioned architecture\n",
    "      return X"
   ]
  },
  {
   "cell_type": "code",
   "execution_count": null,
   "metadata": {
    "id": "-gvsaW1BvdSV"
   },
   "outputs": [],
   "source": [
    "class agcn(tf.keras.layers.Layer):    \n",
    "    def __init__(self, name=\"global_conv_net\"):\n",
    "        super().__init__(name=name)\n",
    "        self.up =  UpSampling2D((2,2), interpolation='bilinear')\n",
    "        self.conv1 = Conv2D(filters = 32, kernel_size = (7, 1), activation = 'relu', padding = 'same')\n",
    "        self.conv2 = Conv2D(filters = 32, kernel_size = (1, 7), activation = 'relu', padding = 'same')\n",
    "\n",
    "        self.conv3 = Conv2D(filters = 32, kernel_size = (1, 7), activation = 'relu', padding = 'same')\n",
    "        self.conv4 = Conv2D(filters = 32, kernel_size = (7, 1), activation = 'relu', padding = 'same')\n",
    "\n",
    "        self.conv5 = Conv2D(filters = 32, kernel_size =(3, 3), activation = 'relu', padding = 'same')\n",
    "        self.up1 = UpSampling2D((2,2), interpolation='bilinear')\n",
    "   \n",
    "        self.conv6 = Conv2D(filters = 40, kernel_size = (3, 3), activation = 'relu', padding = 'same')\n",
    "    \n",
    "        self.up2  = UpSampling2D((4,4), interpolation = 'bilinear')\n",
    "        \n",
    "        \n",
    "    def call(self, X,training=True):\n",
    "      fsm, X_Stage_2_ = X[0], X[1]\n",
    "\n",
    "      fsm =  self.up(fsm)\n",
    "\n",
    "      ag_L1 = self.conv1(X_Stage_2_)\n",
    "      ag_L2 = self.conv2(ag_L1)\n",
    "\n",
    "      ag_L3 = self.conv3(X_Stage_2_)\n",
    "      ag_L4 = self.conv4(ag_L3)\n",
    "\n",
    "      sum1 = Add()([ag_L2,ag_L4])\n",
    "\n",
    "      ag_conv = self.conv5(sum1)\n",
    "\n",
    "      sum2 = Add()([sum1,ag_conv])\n",
    "\n",
    "\n",
    "      \n",
    "      sum2 = self.up1(sum2)\n",
    "      CF = concatenate([fsm,sum2])\n",
    "      X = self.conv6(CF)\n",
    "    \n",
    "      X  = self.up2(X)\n",
    "      X = (Activation('softmax'))(X)\n",
    "        # please implement the above mentioned architecture\n",
    "      return X"
   ]
  },
  {
   "cell_type": "code",
   "execution_count": null,
   "metadata": {
    "colab": {
     "base_uri": "https://localhost:8080/"
    },
    "id": "Sisvtz6pzSL5",
    "outputId": "1740729a-592a-46f6-cd48-08a9295de6f0"
   },
   "outputs": [
    {
     "name": "stdout",
     "output_type": "stream",
     "text": [
      "(None, 256, 256, 64)\n"
     ]
    }
   ],
   "source": [
    "X_input = Input(shape=(512,512,3))\n",
    "\n",
    "# Stage 1\n",
    "X = Conv2D(64, (3, 3), name='conv1', padding=\"same\", kernel_initializer=glorot_uniform(seed=0))(X_input)\n",
    "X = BatchNormalization(axis=3, name='bn_conv1')(X)\n",
    "X = Activation('relu')(X)\n",
    "X = MaxPooling2D((2, 2), strides=(2, 2))(X)\n",
    "\n",
    "\n",
    "print(X.shape)"
   ]
  },
  {
   "cell_type": "code",
   "execution_count": null,
   "metadata": {
    "colab": {
     "base_uri": "https://localhost:8080/"
    },
    "id": "ZPmsFaxBxGYO",
    "outputId": "a3c9726d-b8fe-4b53-dd30-052fd506f273"
   },
   "outputs": [
    {
     "name": "stdout",
     "output_type": "stream",
     "text": [
      "Model: \"model_2\"\n",
      "__________________________________________________________________________________________________\n",
      "Layer (type)                    Output Shape         Param #     Connected to                     \n",
      "==================================================================================================\n",
      "input_1 (InputLayer)            [(None, 512, 512, 3) 0                                            \n",
      "__________________________________________________________________________________________________\n",
      "conv1 (Conv2D)                  (None, 512, 512, 64) 1792        input_1[0][0]                    \n",
      "__________________________________________________________________________________________________\n",
      "bn_conv1 (BatchNormalization)   (None, 512, 512, 64) 256         conv1[0][0]                      \n",
      "__________________________________________________________________________________________________\n",
      "activation (Activation)         (None, 512, 512, 64) 0           bn_conv1[0][0]                   \n",
      "__________________________________________________________________________________________________\n",
      "max_pooling2d (MaxPooling2D)    (None, 256, 256, 64) 0           activation[0][0]                 \n",
      "__________________________________________________________________________________________________\n",
      "block_conv1 (convolutional_bloc (None, 64, 64, 8)    1064        max_pooling2d[0][0]              \n",
      "__________________________________________________________________________________________________\n",
      "identity1 (identity_block)      (None, 64, 64, 8)    288         block_conv1[0][0]                \n",
      "                                                                 identity1[0][0]                  \n",
      "__________________________________________________________________________________________________\n",
      "block_conv2 (convolutional_bloc (None, 64, 64, 16)   1136        identity1[1][0]                  \n",
      "__________________________________________________________________________________________________\n",
      "identity2 (identity_block)      (None, 64, 64, 16)   992         block_conv2[0][0]                \n",
      "                                                                 identity2[0][0]                  \n",
      "                                                                 identity2[1][0]                  \n",
      "__________________________________________________________________________________________________\n",
      "block_conv3 (convolutional_bloc (None, 64, 64, 32)   4064        identity2[2][0]                  \n",
      "__________________________________________________________________________________________________\n",
      "identity3 (identity_block)      (None, 64, 64, 32)   3648        block_conv3[0][0]                \n",
      "                                                                 identity3[0][0]                  \n",
      "                                                                 identity3[1][0]                  \n",
      "                                                                 identity3[2][0]                  \n",
      "                                                                 identity3[3][0]                  \n",
      "__________________________________________________________________________________________________\n",
      "block_conv4 (convolutional_bloc (None, 64, 64, 64)   15296       identity3[4][0]                  \n",
      "__________________________________________________________________________________________________\n",
      "identity4 (identity_block)      (None, 64, 64, 64)   13952       block_conv4[0][0]                \n",
      "                                                                 identity4[0][0]                  \n",
      "__________________________________________________________________________________________________\n",
      "global_flow (global_flow)       (None, 64, 64, 32)   264480      identity4[1][0]                  \n",
      "__________________________________________________________________________________________________\n",
      "context_flow (context_flow)     (None, 64, 64, 32)   39040       identity4[1][0]                  \n",
      "                                                                 global_flow[0][0]                \n",
      "                                                                 identity4[1][0]                  \n",
      "                                                                 context_flow[0][0]               \n",
      "                                                                 identity4[1][0]                  \n",
      "                                                                 context_flow[1][0]               \n",
      "__________________________________________________________________________________________________\n",
      "add (Add)                       (None, 64, 64, 32)   0           global_flow[0][0]                \n",
      "                                                                 context_flow[0][0]               \n",
      "                                                                 context_flow[1][0]               \n",
      "                                                                 context_flow[2][0]               \n",
      "__________________________________________________________________________________________________\n",
      "feature_selection (fsm)         (None, 64, 64, 32)   10432       add[0][0]                        \n",
      "__________________________________________________________________________________________________\n",
      "global_conv_net (agcn)          (None, 512, 512, 40) 50376       feature_selection[0][0]          \n",
      "                                                                 block_conv1[0][0]                \n",
      "==================================================================================================\n",
      "Total params: 406,816\n",
      "Trainable params: 405,296\n",
      "Non-trainable params: 1,520\n",
      "__________________________________________________________________________________________________\n"
     ]
    }
   ],
   "source": [
    "# Stage 2\n",
    "convol1 = convolutional_block(kernel=3, filters=[4, 4, 8], stride=4,name = 'block_conv1' )\n",
    "identity1 = identity_block( kernel = 3, filters = [4, 4, 8],name = 'identity1')\n",
    "X_Stage_2_ = convol1(X)\n",
    "X_Stage_2 = identity1(X_Stage_2_)\n",
    "X_Stage_2 = identity1(X_Stage_2)\n",
    "\n",
    "\n",
    "# Stage 3 \n",
    "convol2 = convolutional_block(kernel=3, filters=[8, 8, 16], stride=1,name = 'block_conv2')\n",
    "identity2 = identity_block( kernel = 3, filters = [8, 8, 16],name = 'identity2')\n",
    "X_Stage_3 = convol2(X_Stage_2)\n",
    "X_Stage_3 = identity2(X_Stage_3)\n",
    "X_Stage_3 = identity2(X_Stage_3)\n",
    "X_Stage_3 = identity2(X_Stage_3)\n",
    "\n",
    "# Stage 4 \n",
    "convol3 = convolutional_block(kernel=3, filters=[16, 16, 32], stride=1,name = 'block_conv3')\n",
    "identity3 = identity_block( kernel = 3, filters = [16, 16, 32],name = 'identity3')\n",
    "X_Stage_4 = convol3(X_Stage_3)\n",
    "X_Stage_4 = identity3(X_Stage_4)\n",
    "X_Stage_4 = identity3(X_Stage_4)\n",
    "X_Stage_4 = identity3(X_Stage_4)\n",
    "X_Stage_4 = identity3(X_Stage_4)\n",
    "X_Stage_4 = identity3(X_Stage_4)\n",
    "\n",
    "# Stage 5 \n",
    "convol4 = convolutional_block(kernel=3, filters=[32, 32, 64], stride=1,name = 'block_conv4')\n",
    "identity4 = identity_block( kernel = 3, filters = [32, 32, 64],name = 'identity4')\n",
    "X_Stage_5 = convol4(X_Stage_4)\n",
    "X_Stage_5 = identity4(X_Stage_5)\n",
    "X_Stage_5 = identity4(X_Stage_5)\n",
    "\n",
    "#global flow\n",
    "glo = global_flow()\n",
    "gf = glo(X_Stage_5)\n",
    "\n",
    "#Context flow\n",
    "context = context_flow()\n",
    "\n",
    "X1 = [X_Stage_5,gf]\n",
    "cf_1 = context(X1)\n",
    "\n",
    "X1 = [X_Stage_5,cf_1]\n",
    "cf_2 = context(X1)\n",
    "\n",
    "X1 = [X_Stage_5,cf_2]\n",
    "cf_3 = context(X1)\n",
    "\n",
    "#adding \n",
    "sum = Add(name = 'add')([gf, cf_1, cf_2, cf_3])\n",
    "\n",
    "#feature selection module\n",
    "feature = fsm()\n",
    "FSM_T = feature(sum)\n",
    "\n",
    "\n",
    "#Adapted Global Convolutional Network\n",
    "Adapted = agcn()\n",
    "X2 = [FSM_T, X_Stage_2_]\n",
    "\n",
    "output = Adapted(X2)\n",
    "\n",
    "model = Model(inputs = X_input, outputs = output)\n",
    "\n",
    "for layer in model.layers:\n",
    "  layer.trainable = True \n",
    "\n",
    "model.summary()"
   ]
  },
  {
   "cell_type": "markdown",
   "metadata": {
    "id": "RStu3wwZ0bBs"
   },
   "source": [
    "*     <img src='https://i.imgur.com/prH3Mno.png' width=\"600\">\n",
    "* as shown in the architecture, after we get the AGCN it will get concatinated with the FSM output\n",
    "\n",
    "* If we observe the shapes both AGCN and FSM will have same height and weight\n",
    "\n",
    "* we will be concatinating both these outputs over the last axis\n",
    "\n",
    "* The concatinated output will be passed to a conv layers with filters = number of classes in our data set and the activation function = 'relu'\n",
    "\n",
    "* we will be using padding=\"same\" which results in the same size feature map\n",
    "\n",
    "* If you observe the shape of matrix, it will be 4x times less than the original image\n",
    "\n",
    "* to make it equal to the original output shape, we will do 4x times upsampling of rows and columns\n",
    "\n",
    "* apply <a href=\"https://www.tensorflow.org/api_docs/python/tf/keras/layers/UpSampling2D\">upsampling</a> with bilinear pooling as interpolation technique\n",
    "\n",
    "* Finally we will be applying sigmoid activation.\n",
    "\n",
    "* Example:\n",
    "    * Assume the matrix shape of AGCN is (128,128,32)  and FSM is (128,128,32) the concatination will make it (128, 128, 64)\n",
    "    * Applying conv layer will make it (128,128,21)\n",
    "    * Finally applying upsampling will make it (512, 512, 21)\n",
    "    * Applying sigmoid will result in the same matrix (512, 512, 21)"
   ]
  },
  {
   "cell_type": "markdown",
   "metadata": {
    "id": "cTOD_qPA0bBv"
   },
   "source": [
    "* If you observe the arcitecture we are creating a feature map with 2x time less width and height\n",
    "* we have written the first stage of the code above.\n",
    "* Write the next layers by using the custom layers we have written"
   ]
  },
  {
   "cell_type": "code",
   "execution_count": null,
   "metadata": {
    "id": "fXzCa0OL5oGI"
   },
   "outputs": [],
   "source": [
    "# https://github.com/qubvel/segmentation_models\n",
    "#import segmentation_models as sm\n",
    "from segmentation_models.metrics import iou_score\n",
    "#from segmentation_models import Unet\n",
    "\n",
    "optim = tf.keras.optimizers.Adam(0.0001)\n",
    "\n",
    "focal_loss = sm.losses.cce_dice_loss\n",
    "\n",
    "# actulally total_loss can be imported directly from library, above example just show you how to manipulate with losses\n",
    "# total_loss = sm.losses.binary_focal_dice_loss \n",
    "# or total_loss = sm.losses.categorical_focal_dice_loss \n",
    "\n",
    "model.compile(optim, focal_loss, metrics=[iou_score])"
   ]
  },
  {
   "cell_type": "code",
   "execution_count": null,
   "metadata": {
    "id": "J8LwKoV55Bjp"
   },
   "outputs": [],
   "source": [
    "callbacks = [\n",
    "    tf.keras.callbacks.ModelCheckpoint('./best_model.h5', save_weights_only=True, save_best_only=True, \\\n",
    "                                       mode='min', monitor='val_iou_score'),\n",
    "    tf.keras.callbacks.ReduceLROnPlateau(monitor='val_iou_score', min_lr=0.000001,patience=2),\n",
    "]"
   ]
  },
  {
   "cell_type": "code",
   "execution_count": null,
   "metadata": {
    "colab": {
     "base_uri": "https://localhost:8080/"
    },
    "id": "eqHdy3h48arC",
    "outputId": "d4cf9b18-770a-449f-e247-ae8eb9166fdd"
   },
   "outputs": [
    {
     "name": "stdout",
     "output_type": "stream",
     "text": [
      "WARNING:tensorflow:From <ipython-input-51-bdb3352f611a>:1: experimental_run_functions_eagerly (from tensorflow.python.eager.def_function) is deprecated and will be removed in a future version.\n",
      "Instructions for updating:\n",
      "Use `tf.config.run_functions_eagerly` instead of the experimental version.\n"
     ]
    }
   ],
   "source": [
    "tf.config.experimental_run_functions_eagerly(True)"
   ]
  },
  {
   "cell_type": "code",
   "execution_count": null,
   "metadata": {
    "colab": {
     "base_uri": "https://localhost:8080/"
    },
    "id": "hp-dmgSUBbyz",
    "outputId": "6d014239-7f82-4f08-e84b-113f1aa01000"
   },
   "outputs": [
    {
     "name": "stderr",
     "output_type": "stream",
     "text": [
      "/usr/local/lib/python3.6/dist-packages/tensorflow/python/data/ops/dataset_ops.py:3504: UserWarning: Even though the tf.config.experimental_run_functions_eagerly option is set, this option does not apply to tf.data functions. tf.data functions are still traced and executed as graphs.\n",
      "  \"Even though the tf.config.experimental_run_functions_eagerly \"\n"
     ]
    },
    {
     "name": "stdout",
     "output_type": "stream",
     "text": [
      "Epoch 1/5\n",
      "2680/2680 [==============================] - 5331s 2s/step - loss: 1.0377 - iou_score: 0.0455 - val_loss: 1.1010 - val_iou_score: 0.0401\n",
      "Epoch 2/5\n",
      "2680/2680 [==============================] - 3291s 1s/step - loss: 0.9911 - iou_score: 0.0677 - val_loss: 1.0803 - val_iou_score: 0.0454\n",
      "Epoch 3/5\n",
      "2680/2680 [==============================] - 3118s 1s/step - loss: 0.9796 - iou_score: 0.0733 - val_loss: 1.0848 - val_iou_score: 0.0452\n",
      "Epoch 4/5\n",
      "2680/2680 [==============================] - 3044s 1s/step - loss: 0.9708 - iou_score: 0.0780 - val_loss: 1.0883 - val_iou_score: 0.0440\n",
      "Epoch 5/5\n",
      "2680/2680 [==============================] - 3013s 1s/step - loss: 0.9706 - iou_score: 0.0789 - val_loss: 1.0919 - val_iou_score: 0.0451\n"
     ]
    }
   ],
   "source": [
    "history = model.fit(train_dataloader, steps_per_epoch=len(train_dataloader), epochs=5,\\\n",
    "                              validation_data=test_dataloader,validation_steps =len(test_dataloader),callbacks=callbacks, )"
   ]
  },
  {
   "cell_type": "code",
   "execution_count": null,
   "metadata": {
    "id": "O9Cmyohz0bBz"
   },
   "outputs": [],
   "source": [
    "tf.keras.utils.plot_model(\n",
    "    model, to_file='model4.png', show_shapes=True, show_layer_names=True,\n",
    "    rankdir='TB')"
   ]
  },
  {
   "cell_type": "markdown",
   "metadata": {
    "id": "RXnPVQHw0bB1"
   },
   "source": [
    "### Usefull tips:\n",
    "* use \"interpolation=cv2.INTER_NEAREST\" when you are resizing the image, so that it won't mess with the number of classes\n",
    "* keep the images in the square shape like $256*256$ or $512*512$\n",
    "* Carefull when you are converting the (W, H) output image into (W, H, Classes)\n",
    "* Even for the canet, use the segmentation model's losses and the metrics\n",
    "* The goal of this assignment is make you familier in with computer vision problems, image preprocessing, building complex architectures and implementing research papers, so that in future you will be very confident in industry\n",
    "* you can use the tensorboard logss to see how is yours model's training happening\n",
    "* use callbacks that you have implemented in previous assignments"
   ]
  },
  {
   "cell_type": "markdown",
   "metadata": {
    "id": "hHWYBsLz3pRY"
   },
   "source": [
    "### Things to keep in mind"
   ]
  },
  {
   "cell_type": "markdown",
   "metadata": {
    "id": "Fr7X4N0v1KlO"
   },
   "source": [
    "* You need to train  above built model and plot the train and test losses.\n",
    "* Make sure there is no overfitting, you are free play with the identity blocks in C1, C2, C3, C4\n",
    "* before we apply the final sigmoid activation, you can add more conv layers or BN or dropouts etc\n",
    "* you are free to use any other optimizer or learning rate or weights init or regularizations"
   ]
  }
 ],
 "metadata": {
  "colab": {
   "collapsed_sections": [],
   "name": "Copy_of_Segmentation_Assignment (1).ipynb",
   "provenance": []
  },
  "kernelspec": {
   "display_name": "Python 3",
   "language": "python",
   "name": "python3"
  },
  "language_info": {
   "codemirror_mode": {
    "name": "ipython",
    "version": 3
   },
   "file_extension": ".py",
   "mimetype": "text/x-python",
   "name": "python",
   "nbconvert_exporter": "python",
   "pygments_lexer": "ipython3",
   "version": "3.7.5"
  }
 },
 "nbformat": 4,
 "nbformat_minor": 1
}
